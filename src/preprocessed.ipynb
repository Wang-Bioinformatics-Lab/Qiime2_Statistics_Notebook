{
 "cells": [
  {
   "cell_type": "code",
   "execution_count": 234,
   "metadata": {},
   "outputs": [],
   "source": [
    "import networkx as nx\n",
    "from gnpsdata import taskresult\n",
    "import os\n",
    "from gnpsdata import workflow_fbmn\n",
    "import pandas as pd\n",
    "import csv"
   ]
  },
  {
   "cell_type": "code",
   "execution_count": 235,
   "metadata": {},
   "outputs": [],
   "source": [
    "task = \"cf6e14abf5604f47b28b467a513d3532\""
   ]
  },
  {
   "cell_type": "code",
   "execution_count": 236,
   "metadata": {},
   "outputs": [],
   "source": [
    "# Downloading raw data from GNPS\n",
    "def download_graphml(task, output_file):\n",
    "    taskresult.download_task_resultfile(task, \"gnps_molecular_network_graphml/\", output_file)\n",
    "\n",
    "def get_graphml_network(task):\n",
    "    taskresult.download_task_resultfile(task, \"gnps_molecular_network_graphml/\", \"temp.graphml\")\n",
    "\n",
    "    G = nx.read_graphml(\"temp.graphml\")\n",
    "\n",
    "    return G\n",
    "\n",
    "def download_quantification(task, output_file):\n",
    "    taskresult.download_task_resultfile(task, \"quantification_table/\", output_file)\n",
    "\n",
    "def download_metadata(task, output_file):\n",
    "    taskresult.download_task_resultfile(task, \"metadata_merged/\", output_file)\n",
    "\n",
    "def download_mgf(task, output_file):\n",
    "    taskresult.download_task_resultfile(task, \"spectra_reformatted/\", output_file)\n",
    "    \n",
    "# Qiime2 Data\n",
    "def download_qiime2(task, output_file):\n",
    "    taskresult.download_task_resultfile(task, \"qiime2_output/qiime2_table.qza\", output_file)\n",
    "\n",
    "def download_qiime2_manifest(task, output_file):\n",
    "    taskresult.download_task_resultfile(task, \"qiime2_output/qiime2_manifest.tsv\", output_file)\n",
    "\n",
    "def download_qiime2_metadata(task, output_file):\n",
    "    taskresult.download_task_resultfile(task, \"qiime2_output/qiime2_metadata.tsv\", output_file)"
   ]
  },
  {
   "cell_type": "code",
   "execution_count": 237,
   "metadata": {},
   "outputs": [],
   "source": [
    "# Download quantification and manifest\n",
    "os.makedirs(\"../data\", exist_ok=True)\n",
    "download_quantification(task, \"../data/quant.csv\")\n",
    "download_qiime2_manifest(task, \"../data/manifest.csv\")\n",
    "# Downloading metadata\n",
    "workflow_fbmn.download_metadata(task, \"../data/unprocessed_metadata.tsv\")"
   ]
  },
  {
   "cell_type": "markdown",
   "metadata": {},
   "source": [
    "# Package installation"
   ]
  },
  {
   "cell_type": "code",
   "execution_count": 238,
   "metadata": {},
   "outputs": [
    {
     "name": "stdout",
     "output_type": "stream",
     "text": [
      "Requirement already satisfied: pandas in /opt/conda/lib/python3.10/site-packages (2.0.0)\n",
      "Requirement already satisfied: numpy in /opt/conda/lib/python3.10/site-packages (1.22.4)\n",
      "Requirement already satisfied: plotly in /opt/conda/lib/python3.10/site-packages (5.11.0)\n",
      "Requirement already satisfied: scikit-learn in /opt/conda/lib/python3.10/site-packages (1.1.2)\n",
      "Requirement already satisfied: scikit-bio in /opt/conda/lib/python3.10/site-packages (0.5.8)\n",
      "Requirement already satisfied: pingouin in /opt/conda/lib/python3.10/site-packages (0.5.3)\n",
      "Requirement already satisfied: kaleido in /opt/conda/lib/python3.10/site-packages (0.2.1)\n",
      "Requirement already satisfied: ipyfilechooser in /opt/conda/lib/python3.10/site-packages (0.6.0)\n",
      "Requirement already satisfied: nbformat in /opt/conda/lib/python3.10/site-packages (5.4.0)\n",
      "Requirement already satisfied: python-dateutil>=2.8.2 in /opt/conda/lib/python3.10/site-packages (from pandas) (2.8.2)\n",
      "Requirement already satisfied: tzdata>=2022.1 in /opt/conda/lib/python3.10/site-packages (from pandas) (2022.1)\n",
      "Requirement already satisfied: pytz>=2020.1 in /opt/conda/lib/python3.10/site-packages (from pandas) (2022.1)\n",
      "Requirement already satisfied: tenacity>=6.2.0 in /opt/conda/lib/python3.10/site-packages (from plotly) (8.1.0)\n",
      "Requirement already satisfied: joblib>=1.0.0 in /opt/conda/lib/python3.10/site-packages (from scikit-learn) (1.1.0)\n",
      "Requirement already satisfied: scipy>=1.3.2 in /opt/conda/lib/python3.10/site-packages (from scikit-learn) (1.9.0)\n",
      "Requirement already satisfied: threadpoolctl>=2.0.0 in /opt/conda/lib/python3.10/site-packages (from scikit-learn) (3.1.0)\n",
      "Requirement already satisfied: IPython>=3.2.0 in /opt/conda/lib/python3.10/site-packages (from scikit-bio) (8.4.0)\n",
      "Requirement already satisfied: natsort>=4.0.3 in /opt/conda/lib/python3.10/site-packages (from scikit-bio) (8.3.1)\n",
      "Requirement already satisfied: lockfile>=0.10.2 in /opt/conda/lib/python3.10/site-packages (from scikit-bio) (0.12.2)\n",
      "Requirement already satisfied: matplotlib>=1.4.3 in /opt/conda/lib/python3.10/site-packages (from scikit-bio) (3.5.2)\n",
      "Requirement already satisfied: hdmedians>=0.14.1 in /opt/conda/lib/python3.10/site-packages (from scikit-bio) (0.14.2)\n",
      "Requirement already satisfied: h5py>=3.6.0 in /opt/conda/lib/python3.10/site-packages (from scikit-bio) (3.7.0)\n",
      "Requirement already satisfied: CacheControl>=0.11.5 in /opt/conda/lib/python3.10/site-packages (from scikit-bio) (0.12.11)\n",
      "Requirement already satisfied: decorator>=3.4.2 in /opt/conda/lib/python3.10/site-packages (from scikit-bio) (5.1.1)\n",
      "Requirement already satisfied: statsmodels>=0.13 in /opt/conda/lib/python3.10/site-packages (from pingouin) (0.13.2)\n",
      "Requirement already satisfied: tabulate in /opt/conda/lib/python3.10/site-packages (from pingouin) (0.9.0)\n",
      "Requirement already satisfied: outdated in /opt/conda/lib/python3.10/site-packages (from pingouin) (0.2.2)\n",
      "Requirement already satisfied: seaborn>=0.11 in /opt/conda/lib/python3.10/site-packages (from pingouin) (0.11.2)\n",
      "Requirement already satisfied: pandas-flavor>=0.2.0 in /opt/conda/lib/python3.10/site-packages (from pingouin) (0.5.0)\n",
      "Requirement already satisfied: ipywidgets in /opt/conda/lib/python3.10/site-packages (from ipyfilechooser) (7.7.1)\n",
      "Requirement already satisfied: traitlets>=5.1 in /opt/conda/lib/python3.10/site-packages (from nbformat) (5.3.0)\n",
      "Requirement already satisfied: jsonschema>=2.6 in /opt/conda/lib/python3.10/site-packages (from nbformat) (4.9.1)\n",
      "Requirement already satisfied: fastjsonschema in /opt/conda/lib/python3.10/site-packages (from nbformat) (2.16.1)\n",
      "Requirement already satisfied: jupyter-core in /opt/conda/lib/python3.10/site-packages (from nbformat) (4.11.1)\n",
      "Requirement already satisfied: msgpack>=0.5.2 in /opt/conda/lib/python3.10/site-packages (from CacheControl>=0.11.5->scikit-bio) (1.0.4)\n",
      "Requirement already satisfied: requests in /opt/conda/lib/python3.10/site-packages (from CacheControl>=0.11.5->scikit-bio) (2.28.1)\n",
      "Requirement already satisfied: Cython>=0.23 in /opt/conda/lib/python3.10/site-packages (from hdmedians>=0.14.1->scikit-bio) (0.29.32)\n",
      "Requirement already satisfied: matplotlib-inline in /opt/conda/lib/python3.10/site-packages (from IPython>=3.2.0->scikit-bio) (0.1.3)\n",
      "Requirement already satisfied: jedi>=0.16 in /opt/conda/lib/python3.10/site-packages (from IPython>=3.2.0->scikit-bio) (0.18.1)\n",
      "Requirement already satisfied: pickleshare in /opt/conda/lib/python3.10/site-packages (from IPython>=3.2.0->scikit-bio) (0.7.5)\n",
      "Requirement already satisfied: prompt-toolkit!=3.0.0,!=3.0.1,<3.1.0,>=2.0.0 in /opt/conda/lib/python3.10/site-packages (from IPython>=3.2.0->scikit-bio) (3.0.30)\n",
      "Requirement already satisfied: pexpect>4.3 in /opt/conda/lib/python3.10/site-packages (from IPython>=3.2.0->scikit-bio) (4.8.0)\n",
      "Requirement already satisfied: backcall in /opt/conda/lib/python3.10/site-packages (from IPython>=3.2.0->scikit-bio) (0.2.0)\n",
      "Requirement already satisfied: pygments>=2.4.0 in /opt/conda/lib/python3.10/site-packages (from IPython>=3.2.0->scikit-bio) (2.12.0)\n",
      "Requirement already satisfied: stack-data in /opt/conda/lib/python3.10/site-packages (from IPython>=3.2.0->scikit-bio) (0.3.0)\n",
      "Requirement already satisfied: setuptools>=18.5 in /opt/conda/lib/python3.10/site-packages (from IPython>=3.2.0->scikit-bio) (63.4.2)\n",
      "Requirement already satisfied: attrs>=17.4.0 in /opt/conda/lib/python3.10/site-packages (from jsonschema>=2.6->nbformat) (22.1.0)\n",
      "Requirement already satisfied: pyrsistent!=0.17.0,!=0.17.1,!=0.17.2,>=0.14.0 in /opt/conda/lib/python3.10/site-packages (from jsonschema>=2.6->nbformat) (0.18.1)\n",
      "Requirement already satisfied: kiwisolver>=1.0.1 in /opt/conda/lib/python3.10/site-packages (from matplotlib>=1.4.3->scikit-bio) (1.4.4)\n",
      "Requirement already satisfied: pyparsing>=2.2.1 in /opt/conda/lib/python3.10/site-packages (from matplotlib>=1.4.3->scikit-bio) (3.0.9)\n",
      "Requirement already satisfied: cycler>=0.10 in /opt/conda/lib/python3.10/site-packages (from matplotlib>=1.4.3->scikit-bio) (0.11.0)\n",
      "Requirement already satisfied: pillow>=6.2.0 in /opt/conda/lib/python3.10/site-packages (from matplotlib>=1.4.3->scikit-bio) (9.2.0)\n",
      "Requirement already satisfied: fonttools>=4.22.0 in /opt/conda/lib/python3.10/site-packages (from matplotlib>=1.4.3->scikit-bio) (4.34.4)\n",
      "Requirement already satisfied: packaging>=20.0 in /opt/conda/lib/python3.10/site-packages (from matplotlib>=1.4.3->scikit-bio) (21.3)\n",
      "Requirement already satisfied: lazy-loader>=0.1 in /opt/conda/lib/python3.10/site-packages (from pandas-flavor>=0.2.0->pingouin) (0.2)\n",
      "Requirement already satisfied: xarray in /opt/conda/lib/python3.10/site-packages (from pandas-flavor>=0.2.0->pingouin) (2022.11.0)\n",
      "Requirement already satisfied: six>=1.5 in /opt/conda/lib/python3.10/site-packages (from python-dateutil>=2.8.2->pandas) (1.16.0)\n",
      "Requirement already satisfied: patsy>=0.5.2 in /opt/conda/lib/python3.10/site-packages (from statsmodels>=0.13->pingouin) (0.5.2)\n",
      "Requirement already satisfied: widgetsnbextension~=3.6.0 in /opt/conda/lib/python3.10/site-packages (from ipywidgets->ipyfilechooser) (3.6.1)\n",
      "Requirement already satisfied: ipykernel>=4.5.1 in /opt/conda/lib/python3.10/site-packages (from ipywidgets->ipyfilechooser) (6.15.1)\n",
      "Requirement already satisfied: ipython-genutils~=0.2.0 in /opt/conda/lib/python3.10/site-packages (from ipywidgets->ipyfilechooser) (0.2.0)\n",
      "Requirement already satisfied: jupyterlab-widgets>=1.0.0 in /opt/conda/lib/python3.10/site-packages (from ipywidgets->ipyfilechooser) (1.1.1)\n",
      "Requirement already satisfied: littleutils in /opt/conda/lib/python3.10/site-packages (from outdated->pingouin) (0.2.2)\n",
      "Requirement already satisfied: pyzmq>=17 in /opt/conda/lib/python3.10/site-packages (from ipykernel>=4.5.1->ipywidgets->ipyfilechooser) (23.2.0)\n",
      "Requirement already satisfied: psutil in /opt/conda/lib/python3.10/site-packages (from ipykernel>=4.5.1->ipywidgets->ipyfilechooser) (5.9.1)\n",
      "Requirement already satisfied: tornado>=6.1 in /opt/conda/lib/python3.10/site-packages (from ipykernel>=4.5.1->ipywidgets->ipyfilechooser) (6.1)\n",
      "Requirement already satisfied: debugpy>=1.0 in /opt/conda/lib/python3.10/site-packages (from ipykernel>=4.5.1->ipywidgets->ipyfilechooser) (1.6.0)\n",
      "Requirement already satisfied: nest-asyncio in /opt/conda/lib/python3.10/site-packages (from ipykernel>=4.5.1->ipywidgets->ipyfilechooser) (1.5.5)\n",
      "Requirement already satisfied: jupyter-client>=6.1.12 in /opt/conda/lib/python3.10/site-packages (from ipykernel>=4.5.1->ipywidgets->ipyfilechooser) (7.3.4)\n",
      "Requirement already satisfied: parso<0.9.0,>=0.8.0 in /opt/conda/lib/python3.10/site-packages (from jedi>=0.16->IPython>=3.2.0->scikit-bio) (0.8.3)\n",
      "Requirement already satisfied: ptyprocess>=0.5 in /opt/conda/lib/python3.10/site-packages (from pexpect>4.3->IPython>=3.2.0->scikit-bio) (0.7.0)\n",
      "Requirement already satisfied: wcwidth in /opt/conda/lib/python3.10/site-packages (from prompt-toolkit!=3.0.0,!=3.0.1,<3.1.0,>=2.0.0->IPython>=3.2.0->scikit-bio) (0.2.5)\n",
      "Requirement already satisfied: notebook>=4.4.1 in /opt/conda/lib/python3.10/site-packages (from widgetsnbextension~=3.6.0->ipywidgets->ipyfilechooser) (6.4.12)\n",
      "Requirement already satisfied: idna<4,>=2.5 in /opt/conda/lib/python3.10/site-packages (from requests->CacheControl>=0.11.5->scikit-bio) (3.3)\n",
      "Requirement already satisfied: charset-normalizer<3,>=2 in /opt/conda/lib/python3.10/site-packages (from requests->CacheControl>=0.11.5->scikit-bio) (2.1.0)\n",
      "Requirement already satisfied: certifi>=2017.4.17 in /opt/conda/lib/python3.10/site-packages (from requests->CacheControl>=0.11.5->scikit-bio) (2022.12.7)\n",
      "Requirement already satisfied: urllib3<1.27,>=1.21.1 in /opt/conda/lib/python3.10/site-packages (from requests->CacheControl>=0.11.5->scikit-bio) (1.26.11)\n",
      "Requirement already satisfied: asttokens in /opt/conda/lib/python3.10/site-packages (from stack-data->IPython>=3.2.0->scikit-bio) (2.0.5)\n",
      "Requirement already satisfied: pure-eval in /opt/conda/lib/python3.10/site-packages (from stack-data->IPython>=3.2.0->scikit-bio) (0.2.2)\n",
      "Requirement already satisfied: executing in /opt/conda/lib/python3.10/site-packages (from stack-data->IPython>=3.2.0->scikit-bio) (0.9.1)\n",
      "Requirement already satisfied: entrypoints in /opt/conda/lib/python3.10/site-packages (from jupyter-client>=6.1.12->ipykernel>=4.5.1->ipywidgets->ipyfilechooser) (0.4)\n",
      "Requirement already satisfied: argon2-cffi in /opt/conda/lib/python3.10/site-packages (from notebook>=4.4.1->widgetsnbextension~=3.6.0->ipywidgets->ipyfilechooser) (21.3.0)\n",
      "Requirement already satisfied: Send2Trash>=1.8.0 in /opt/conda/lib/python3.10/site-packages (from notebook>=4.4.1->widgetsnbextension~=3.6.0->ipywidgets->ipyfilechooser) (1.8.0)\n",
      "Requirement already satisfied: nbconvert>=5 in /opt/conda/lib/python3.10/site-packages (from notebook>=4.4.1->widgetsnbextension~=3.6.0->ipywidgets->ipyfilechooser) (6.5.0)\n",
      "Requirement already satisfied: prometheus-client in /opt/conda/lib/python3.10/site-packages (from notebook>=4.4.1->widgetsnbextension~=3.6.0->ipywidgets->ipyfilechooser) (0.14.1)\n",
      "Requirement already satisfied: jinja2 in /opt/conda/lib/python3.10/site-packages (from notebook>=4.4.1->widgetsnbextension~=3.6.0->ipywidgets->ipyfilechooser) (3.1.2)\n",
      "Requirement already satisfied: terminado>=0.8.3 in /opt/conda/lib/python3.10/site-packages (from notebook>=4.4.1->widgetsnbextension~=3.6.0->ipywidgets->ipyfilechooser) (0.15.0)\n",
      "Requirement already satisfied: MarkupSafe>=2.0 in /opt/conda/lib/python3.10/site-packages (from nbconvert>=5->notebook>=4.4.1->widgetsnbextension~=3.6.0->ipywidgets->ipyfilechooser) (2.1.1)\n",
      "Requirement already satisfied: defusedxml in /opt/conda/lib/python3.10/site-packages (from nbconvert>=5->notebook>=4.4.1->widgetsnbextension~=3.6.0->ipywidgets->ipyfilechooser) (0.7.1)\n",
      "Requirement already satisfied: nbclient>=0.5.0 in /opt/conda/lib/python3.10/site-packages (from nbconvert>=5->notebook>=4.4.1->widgetsnbextension~=3.6.0->ipywidgets->ipyfilechooser) (0.6.6)\n",
      "Requirement already satisfied: jupyterlab-pygments in /opt/conda/lib/python3.10/site-packages (from nbconvert>=5->notebook>=4.4.1->widgetsnbextension~=3.6.0->ipywidgets->ipyfilechooser) (0.2.2)\n",
      "Requirement already satisfied: mistune<2,>=0.8.1 in /opt/conda/lib/python3.10/site-packages (from nbconvert>=5->notebook>=4.4.1->widgetsnbextension~=3.6.0->ipywidgets->ipyfilechooser) (0.8.4)\n",
      "Requirement already satisfied: tinycss2 in /opt/conda/lib/python3.10/site-packages (from nbconvert>=5->notebook>=4.4.1->widgetsnbextension~=3.6.0->ipywidgets->ipyfilechooser) (1.1.1)\n",
      "Requirement already satisfied: pandocfilters>=1.4.1 in /opt/conda/lib/python3.10/site-packages (from nbconvert>=5->notebook>=4.4.1->widgetsnbextension~=3.6.0->ipywidgets->ipyfilechooser) (1.5.0)\n",
      "Requirement already satisfied: bleach in /opt/conda/lib/python3.10/site-packages (from nbconvert>=5->notebook>=4.4.1->widgetsnbextension~=3.6.0->ipywidgets->ipyfilechooser) (5.0.1)\n",
      "Requirement already satisfied: beautifulsoup4 in /opt/conda/lib/python3.10/site-packages (from nbconvert>=5->notebook>=4.4.1->widgetsnbextension~=3.6.0->ipywidgets->ipyfilechooser) (4.11.1)\n",
      "Requirement already satisfied: argon2-cffi-bindings in /opt/conda/lib/python3.10/site-packages (from argon2-cffi->notebook>=4.4.1->widgetsnbextension~=3.6.0->ipywidgets->ipyfilechooser) (21.2.0)\n",
      "Requirement already satisfied: cffi>=1.0.1 in /opt/conda/lib/python3.10/site-packages (from argon2-cffi-bindings->argon2-cffi->notebook>=4.4.1->widgetsnbextension~=3.6.0->ipywidgets->ipyfilechooser) (1.15.1)\n",
      "Requirement already satisfied: soupsieve>1.2 in /opt/conda/lib/python3.10/site-packages (from beautifulsoup4->nbconvert>=5->notebook>=4.4.1->widgetsnbextension~=3.6.0->ipywidgets->ipyfilechooser) (2.3.2.post1)\n",
      "Requirement already satisfied: webencodings in /opt/conda/lib/python3.10/site-packages (from bleach->nbconvert>=5->notebook>=4.4.1->widgetsnbextension~=3.6.0->ipywidgets->ipyfilechooser) (0.5.1)\n",
      "Requirement already satisfied: pycparser in /opt/conda/lib/python3.10/site-packages (from cffi>=1.0.1->argon2-cffi-bindings->argon2-cffi->notebook>=4.4.1->widgetsnbextension~=3.6.0->ipywidgets->ipyfilechooser) (2.21)\n"
     ]
    }
   ],
   "source": [
    "!pip install pandas numpy plotly scikit-learn scikit-bio pingouin kaleido ipyfilechooser nbformat"
   ]
  },
  {
   "cell_type": "code",
   "execution_count": 239,
   "metadata": {},
   "outputs": [],
   "source": [
    "# importing necessary modules\n",
    "import pandas as pd\n",
    "import numpy as np\n",
    "import os\n",
    "import itertools\n",
    "import plotly.express as px\n",
    "import plotly.graph_objects as go\n",
    "import plotly.figure_factory as ff\n",
    "from plotly.subplots import make_subplots\n",
    "from scipy.cluster.hierarchy import dendrogram, linkage\n",
    "from sklearn.preprocessing import StandardScaler\n",
    "from scipy.spatial import distance\n",
    "from sklearn.decomposition import PCA\n",
    "import scipy.stats as stats\n",
    "import pingouin as pg\n",
    "import skbio # Don't import on Windows!!\n",
    "from ipyfilechooser import FileChooser\n",
    "from ipywidgets import interact\n",
    "import warnings"
   ]
  },
  {
   "cell_type": "code",
   "execution_count": 240,
   "metadata": {},
   "outputs": [],
   "source": [
    "# Disable warnings for cleaner output, comment out for debugging\n",
    "warnings.filterwarnings('ignore')"
   ]
  },
  {
   "cell_type": "markdown",
   "metadata": {},
   "source": [
    "# Blank Removal"
   ]
  },
  {
   "cell_type": "code",
   "execution_count": 241,
   "metadata": {},
   "outputs": [],
   "source": [
    "# Get folder with data files\n",
    "result_dir = \"../data/\"\n",
    "#Read quant.csv and metadata .tsv\n",
    "ft = pd.read_csv(\"../data/quant.csv\")\n",
    "md = pd.read_csv(\"../data/unprocessed_metadata.tsv\", sep = \"\\t\").set_index(\"filename\")\n",
    "\n",
    "# When cutoff is low, more noise (or background) detected; With higher cutoff, less background detected, thus more features observed\n",
    "cutoff = 0.1\n",
    "\n",
    "def inside_levels(df):\n",
    "    # get all the columns (equals all attributes) -> will be number of rows\n",
    "    levels = []\n",
    "    types = []\n",
    "    count = []\n",
    "    for col in df.columns:\n",
    "        types.append(type(df[col][0]))\n",
    "        levels.append(sorted(set(df[col].dropna())))\n",
    "        tmp = df[col].value_counts()\n",
    "        count.append([tmp[levels[-1][i]] for i in range(len(levels[-1]))])\n",
    "    return pd.DataFrame({\"ATTRIBUTES\": df.columns, \"LEVELS\": levels, \"COUNT\":count, \"TYPES\": types}, index=range(1, len(levels)+1))\n",
    "new_md = md.copy() #storing the files under different names to preserve the original files\n",
    "# remove the (front & tail) spaces, if any present, from the rownames of md\n",
    "new_md.index = [name.strip() for name in md.index]\n",
    "# for each col in new_md\n",
    "# 1) removing the spaces (if any)\n",
    "# 2) replace the spaces (in the middle) to underscore\n",
    "# 3) converting them all to UPPERCASE\n",
    "for col in new_md.columns:\n",
    "    if new_md[col].dtype == str:\n",
    "        new_md[col] = [item.strip().replace(\" \", \"_\").upper() for item in new_md[col]]\n",
    "\n",
    "new_ft = ft.copy() #storing the files under different names to preserve the original files\n",
    "# changing the index in feature table to contain m/z and RT information\n",
    "new_ft.index = [f\"{id}_{round(mz, 3)}_{round(rt, 3)}\" for id, mz, rt in zip(ft[\"row ID\"], ft[\"row m/z\"], ft[\"row retention time\"])]\n",
    "new_ft.index.name = \"CustomIndex\"\n",
    "# drop all columns that are not mzML or mzXML file names\n",
    "new_ft.drop(columns=[col for col in new_ft.columns if \".mz\" not in col], inplace=True)\n",
    "# remove \" Peak area\" from column names\n",
    "new_ft.rename(columns={col: col.replace(\" Peak area\", \"\").strip() for col in new_ft.columns}, inplace=True)\n",
    "\n",
    "if sorted(new_ft.columns) != sorted(new_md.index):\n",
    "    # print the md rows / ft column which are not in ft columns / md rows and remove them\n",
    "    ft_cols_not_in_md = [col for col in new_ft.columns if col not in new_md.index]\n",
    "    new_ft.drop(columns=ft_cols_not_in_md, inplace=True)\n",
    "    md_rows_not_in_ft = [row for row in new_md.index if row not in new_ft.columns]\n",
    "    new_md.drop(md_rows_not_in_ft, inplace=True)\n",
    "\n",
    "new_ft = new_ft.reindex(sorted(new_ft.columns), axis=1) #ordering the ft by its column names\n",
    "new_md.sort_index(inplace=True) #ordering the md by its row names\n",
    "list(new_ft.columns) == list(new_md.index)\n",
    "data = new_md\n",
    "condition = 2\n",
    "df = pd.DataFrame({\"LEVELS\": inside_levels(data).iloc[condition-1][\"LEVELS\"]})\n",
    "df.index = [*range(1, len(df)+1)]\n",
    "#Among the shown levels of an attribute, select the ones to keep\n",
    "blank_id = 1\n",
    "#Splitting the data into blanks and samples based on the metadata\n",
    "md_blank = data[data[inside_levels(data)['ATTRIBUTES'][condition]] == df['LEVELS'][blank_id]]\n",
    "blank = new_ft[list(md_blank.index)]\n",
    "md_samples = data[data[inside_levels(data)['ATTRIBUTES'][condition]] != df['LEVELS'][blank_id]]\n",
    "samples = new_ft[list(md_samples.index)]\n",
    "\n",
    "blank_removal = samples.copy()\n",
    "\n",
    "# Getting mean for every feature in blank and Samples\n",
    "avg_blank = blank.mean(axis=1, skipna=False) # set skipna = False do not exclude NA/null values when computing the result.\n",
    "avg_samples = samples.mean(axis=1, skipna=False)\n",
    "\n",
    "# Getting the ratio of blank vs samples\n",
    "ratio_blank_samples = (avg_blank+1)/(avg_samples+1)\n",
    "\n",
    "# Create an array with boolean values: True (is a real feature, ratio<cutoff) / False (is a blank, background, noise feature, ratio>cutoff)\n",
    "is_real_feature = (ratio_blank_samples<cutoff)\n",
    "blank_removal = samples[is_real_feature.values]\n",
    "# save to file\n",
    "entry_id = []\n",
    "entry_mz = []\n",
    "entry_time = []\n",
    "for entryCol in blank_removal.index:\n",
    "    entry = entryCol.split(\"_\")\n",
    "    entry_id.append(entry[0])\n",
    "    entry_mz.append(entry[1])\n",
    "    entry_time.append(entry[2])\n",
    "blank_removal.insert(0,\"#OTU ID\",entry_id,True)\n",
    "blank_removal.insert(1,\"sample_name\",entry_mz,True)\n",
    "blank_removal.insert(2,\"abundance\",entry_time,True)\n",
    "blank_removal.reset_index(drop=True, inplace=True)\n",
    "blank_removal.to_csv(os.path.join(result_dir, \"Blanks_Removed.tsv\"), sep = \"\\t\", index = False)"
   ]
  },
  {
   "cell_type": "code",
   "execution_count": 242,
   "metadata": {},
   "outputs": [],
   "source": [
    "# Changing Metadata and Manifest Column name"
   ]
  },
  {
   "cell_type": "code",
   "execution_count": 243,
   "metadata": {
    "tags": []
   },
   "outputs": [],
   "source": [
    "#read metadata file\n",
    "metadata = pd.read_csv(\"../data/unprocessed_metadata.tsv\", sep = \"\\t\", index_col=False)\n",
    "#rename 1st column to \"#OTU ID\n",
    "metadata = metadata.rename(columns={\"filename\":\"#OTU ID\"})\n",
    "#convert back to .tsv\n",
    "metadata.to_csv('../data/metadata.tsv', sep=\"\\t\", index=False)"
   ]
  },
  {
   "cell_type": "markdown",
   "metadata": {
    "tags": []
   },
   "source": [
    "# Import Into Qiime2\n",
    "## Convert .tsv to .biom\n",
    "! source activate qiime2-2019.4 && biom convert -i ../data/gnps_quant/quant.tsv -o quant.biom --to-hdf5"
   ]
  },
  {
   "cell_type": "code",
   "execution_count": 244,
   "metadata": {
    "tags": []
   },
   "outputs": [],
   "source": [
    "! source activate qiime2-2019.4 && biom convert \\\n",
    "  -i ../data/Blanks_Removed.tsv \\\n",
    "  -o ../data/Blanks_Removed_quant.biom --to-hdf5"
   ]
  },
  {
   "cell_type": "code",
   "execution_count": 245,
   "metadata": {},
   "outputs": [
    {
     "name": "stdout",
     "output_type": "stream",
     "text": [
      "\u001b[32mImported ../data/Blanks_Removed_quant.biom as BIOMV210Format to ../data/qiime_table.qza\u001b[0m\n"
     ]
    }
   ],
   "source": [
    "! source activate qiime2-2019.4 && qiime tools import \\\n",
    "  --input-path ../data/Blanks_Removed_quant.biom \\\n",
    "  --type 'FeatureTable[Frequency]' \\\n",
    "  --input-format BIOMV210Format \\\n",
    "  --output-path ../data/qiime_table.qza"
   ]
  },
  {
   "cell_type": "markdown",
   "metadata": {
    "tags": []
   },
   "source": [
    "# ANOVA\n",
    "! source activate qiime2-2019.4 && qiime longitudinal anova \\\n",
    "  --m-metadata-file <path-to-metadata-file.tsv> \\\n",
    "  --p-formula \"independent_variable~dependent_variable+dependent_variable\" \\\n",
    "  --o-visualization <path-to-visualization.qza>"
   ]
  },
  {
   "cell_type": "code",
   "execution_count": 246,
   "metadata": {},
   "outputs": [
    {
     "name": "stdout",
     "output_type": "stream",
     "text": [
      "\u001b[32mSaved Visualization to: metadata.qzv\u001b[0m\n"
     ]
    }
   ],
   "source": [
    "!source activate qiime2-2019.4 && qiime longitudinal anova \\\n",
    "  --m-metadata-file ../data/metadata.tsv \\\n",
    "  --p-formula \"ATTRIBUTE_Year~ATTRIBUTE_Sample_Area+ATTRIBUTE_Latitude\" \\\n",
    "  --p-sstype 'I' \\\n",
    "  --o-visualization metadata.qzv"
   ]
  },
  {
   "cell_type": "markdown",
   "metadata": {
    "tags": []
   },
   "source": [
    "# Visualization\n",
    "Qiime2 visualizations do not work in headless environments, we can view them at https://view.qiime2.org/"
   ]
  },
  {
   "cell_type": "code",
   "execution_count": 247,
   "metadata": {
    "tags": []
   },
   "outputs": [
    {
     "name": "stdout",
     "output_type": "stream",
     "text": [
      "Usage: \u001b[34m\u001b[24mqiime\u001b[0m [OPTIONS] COMMAND [ARGS]...\n",
      "\n",
      "  QIIME 2 command-line interface (q2cli)\n",
      "  --------------------------------------\n",
      "\n",
      "  To get help with QIIME 2, visit https://qiime2.org.\n",
      "\n",
      "  To enable tab completion in Bash, run the following command or add it to\n",
      "  your .bashrc/.bash_profile:\n",
      "\n",
      "      source tab-qiime\n",
      "\n",
      "  To enable tab completion in ZSH, run the following commands or add them to\n",
      "  your .zshrc:\n",
      "\n",
      "      autoload bashcompinit && bashcompinit && source tab-qiime\n",
      "\n",
      "\u001b[1mOptions\u001b[0m:\n",
      "  \u001b[34m\u001b[24m--version\u001b[0m   Show the version and exit.\n",
      "  \u001b[34m\u001b[24m--help\u001b[0m      Show this message and exit.\n",
      "\n",
      "\u001b[1mCommands\u001b[0m:\n",
      "  \u001b[34m\u001b[24minfo\u001b[0m                Display information about current deployment.\n",
      "  \u001b[34m\u001b[24mtools\u001b[0m               Tools for working with QIIME 2 files.\n",
      "  \u001b[34m\u001b[24mdev\u001b[0m                 Utilities for developers and advanced users.\n",
      "  \u001b[34m\u001b[24malignment\u001b[0m           Plugin for generating and manipulating alignments.\n",
      "  \u001b[34m\u001b[24mcomposition\u001b[0m         Plugin for compositional data analysis.\n",
      "  \u001b[34m\u001b[24mcutadapt\u001b[0m            Plugin for removing adapter sequences, primers, and\n",
      "                      other unwanted sequence from sequence data.\n",
      "  \u001b[34m\u001b[24mdada2\u001b[0m               Plugin for sequence quality control with DADA2.\n",
      "  \u001b[34m\u001b[24mdeblur\u001b[0m              Plugin for sequence quality control with Deblur.\n",
      "  \u001b[34m\u001b[24mdemux\u001b[0m               Plugin for demultiplexing & viewing sequence quality.\n",
      "  \u001b[34m\u001b[24mdiversity\u001b[0m           Plugin for exploring community diversity.\n",
      "  \u001b[34m\u001b[24memperor\u001b[0m             Plugin for ordination plotting with Emperor.\n",
      "  \u001b[34m\u001b[24mfeature-classifier\u001b[0m  Plugin for taxonomic classification.\n",
      "  \u001b[34m\u001b[24mfeature-table\u001b[0m       Plugin for working with sample by feature tables.\n",
      "  \u001b[34m\u001b[24mfragment-insertion\u001b[0m  Plugin for extending phylogenies.\n",
      "  \u001b[34m\u001b[24mgneiss\u001b[0m              Plugin for building compositional models.\n",
      "  \u001b[34m\u001b[24mlongitudinal\u001b[0m        Plugin for paired sample and time series analyses.\n",
      "  \u001b[34m\u001b[24mmetadata\u001b[0m            Plugin for working with Metadata.\n",
      "  \u001b[34m\u001b[24mphylogeny\u001b[0m           Plugin for generating and manipulating phylogenies.\n",
      "  \u001b[34m\u001b[24mquality-control\u001b[0m     Plugin for quality control of feature and sequence data.\n",
      "  \u001b[34m\u001b[24mquality-filter\u001b[0m      Plugin for PHRED-based filtering and trimming.\n",
      "  \u001b[34m\u001b[24msample-classifier\u001b[0m   Plugin for machine learning prediction of sample\n",
      "                      metadata.\n",
      "  \u001b[34m\u001b[24mtaxa\u001b[0m                Plugin for working with feature taxonomy annotations.\n",
      "  \u001b[34m\u001b[24mvsearch\u001b[0m             Plugin for clustering and dereplicating with vsearch.\n"
     ]
    }
   ],
   "source": [
    "# Qiime2 Manipulations Happen after this to mirror the other notebooks\n",
    "\n",
    "! source activate qiime2-2019.4 && qiime"
   ]
  },
  {
   "cell_type": "markdown",
   "metadata": {},
   "source": [
    "# Principal Coordinate Analysis (PCoA) & Distance Matrix\n",
    "! source activate qiime2-2019.4 && first create distance matrix \n",
    " qiime diversity beta \\\n",
    "  --i-table <path-to-feature-table.qza> \\\n",
    "  --p-metric canberra_adkins \\\n",
    "  --output-dir <path-to-distance-matrix.qza> \\"
   ]
  },
  {
   "cell_type": "code",
   "execution_count": 248,
   "metadata": {},
   "outputs": [
    {
     "name": "stdout",
     "output_type": "stream",
     "text": [
      "\u001b[32mSaved DistanceMatrix to: ../data/distance_matrix.qza\u001b[0m\n"
     ]
    }
   ],
   "source": [
    "! source activate qiime2-2019.4 && qiime diversity beta \\\n",
    "  --i-table ../data/qiime_table.qza \\\n",
    "  --p-metric canberra_adkins \\\n",
    "  --o-distance-matrix ../data/distance_matrix.qza"
   ]
  },
  {
   "cell_type": "markdown",
   "metadata": {},
   "source": [
    "## PCoA\n",
    "! source activate qiime2-2019.4 && qiime diversity pcoa \\\n",
    "  --i-distance-matrix <path-to-distance-matrix.qza> \\\n",
    "  --p-number-of-dimensions INTEGER \\ #optional\n",
    "  --o-pcoa <path-to-artifact.qza>"
   ]
  },
  {
   "cell_type": "code",
   "execution_count": 249,
   "metadata": {},
   "outputs": [
    {
     "name": "stdout",
     "output_type": "stream",
     "text": [
      "\u001b[32mSaved PCoAResults to: ../data/pcoa.qza\u001b[0m\n"
     ]
    }
   ],
   "source": [
    "! source activate qiime2-2019.4 && qiime diversity pcoa \\\n",
    "  --i-distance-matrix ../data/distance_matrix.qza \\\n",
    "  --o-pcoa ../data/pcoa.qza"
   ]
  },
  {
   "cell_type": "markdown",
   "metadata": {},
   "source": [
    "# Emperor plot\n",
    "! source activate qiime2-2019.4 && qiime emperor plot \\\n",
    "--i-pcoa <path_to_pcoa.qza> \\\n",
    "--m-metadata-file <path_to_metadata.tsv \\\n",
    "--o-visualization emperor_qiime2"
   ]
  },
  {
   "cell_type": "code",
   "execution_count": 250,
   "metadata": {},
   "outputs": [
    {
     "name": "stdout",
     "output_type": "stream",
     "text": [
      "\u001b[32mSaved Visualization to: ../data/emperor_plot.qzv\u001b[0m\n"
     ]
    }
   ],
   "source": [
    "! source activate qiime2-2019.4 && qiime emperor plot \\\n",
    "  --i-pcoa ../data/pcoa.qza \\\n",
    "  --m-metadata-file ../data/metadata.tsv \\\n",
    "  --o-visualization ../data/emperor_plot \\\n",
    "  --p-ignore-missing-samples"
   ]
  },
  {
   "cell_type": "code",
   "execution_count": null,
   "metadata": {},
   "outputs": [],
   "source": []
  }
 ],
 "metadata": {
  "kernelspec": {
   "display_name": "Python 3 (ipykernel)",
   "language": "python",
   "name": "python3"
  },
  "language_info": {
   "codemirror_mode": {
    "name": "ipython",
    "version": 3
   },
   "file_extension": ".py",
   "mimetype": "text/x-python",
   "name": "python",
   "nbconvert_exporter": "python",
   "pygments_lexer": "ipython3",
   "version": "3.10.5"
  },
  "toc-autonumbering": true,
  "toc-showcode": false,
  "toc-showmarkdowntxt": true
 },
 "nbformat": 4,
 "nbformat_minor": 4
}
