{
 "cells": [
  {
   "cell_type": "code",
   "execution_count": 59,
   "metadata": {},
   "outputs": [],
   "source": [
    "import networkx as nx\n",
    "from gnpsdata import taskresult"
   ]
  },
  {
   "cell_type": "code",
   "execution_count": 60,
   "metadata": {},
   "outputs": [],
   "source": [
    "task = \"cf6e14abf5604f47b28b467a513d3532\""
   ]
  },
  {
   "cell_type": "code",
   "execution_count": 61,
   "metadata": {},
   "outputs": [],
   "source": [
    "# Downloading raw data from GNPS\n",
    "def download_graphml(task, output_file):\n",
    "    taskresult.download_task_resultfile(task, \"gnps_molecular_network_graphml/\", output_file)\n",
    "\n",
    "def get_graphml_network(task):\n",
    "    taskresult.download_task_resultfile(task, \"gnps_molecular_network_graphml/\", \"temp.graphml\")\n",
    "\n",
    "    G = nx.read_graphml(\"temp.graphml\")\n",
    "\n",
    "    return G\n",
    "\n",
    "def download_quantification(task, output_file):\n",
    "    taskresult.download_task_resultfile(task, \"quantification_table/\", output_file)\n",
    "\n",
    "def download_metadata(task, output_file):\n",
    "    taskresult.download_task_resultfile(task, \"metadata_merged/\", output_file)\n",
    "\n",
    "def download_mgf(task, output_file):\n",
    "    taskresult.download_task_resultfile(task, \"spectra_reformatted/\", output_file)\n",
    "    \n",
    "# Qiime2 Data\n",
    "def download_qiime2(task, output_file):\n",
    "    taskresult.download_task_resultfile(task, \"qiime2_output/qiime2_table.qza\", output_file)\n",
    "\n",
    "def download_qiime2_manifest(task, output_file):\n",
    "    taskresult.download_task_resultfile(task, \"qiime2_output/qiime2_manifest.tsv\", output_file)\n",
    "\n",
    "def download_qiime2_metadata(task, output_file):\n",
    "    taskresult.download_task_resultfile(task, \"qiime2_output/qiime2_metadata.tsv\", output_file)"
   ]
  },
  {
   "cell_type": "markdown",
   "metadata": {},
   "source": [
    "# Package installation"
   ]
  },
  {
   "cell_type": "code",
   "execution_count": null,
   "metadata": {},
   "outputs": [],
   "source": [
    "!pip install pandas numpy plotly scikit-learn scikit-bio pingouin kaleido ipyfilechooser nbformat"
   ]
  },
  {
   "cell_type": "code",
   "execution_count": 120,
   "metadata": {},
   "outputs": [],
   "source": [
    "# importing necessary modules\n",
    "import pandas as pd\n",
    "import numpy as np\n",
    "import os\n",
    "import itertools\n",
    "import plotly.express as px\n",
    "import plotly.graph_objects as go\n",
    "import plotly.figure_factory as ff\n",
    "from plotly.subplots import make_subplots\n",
    "from scipy.cluster.hierarchy import dendrogram, linkage\n",
    "from sklearn.preprocessing import StandardScaler\n",
    "from scipy.spatial import distance\n",
    "from sklearn.decomposition import PCA\n",
    "import scipy.stats as stats\n",
    "import pingouin as pg\n",
    "import skbio # Don't import on Windows!!\n",
    "from ipyfilechooser import FileChooser\n",
    "from ipywidgets import interact\n",
    "import warnings"
   ]
  },
  {
   "cell_type": "code",
   "execution_count": 121,
   "metadata": {},
   "outputs": [],
   "source": [
    "# Disable warnings for cleaner output, comment out for debugging\n",
    "warnings.filterwarnings('ignore')"
   ]
  },
  {
   "cell_type": "markdown",
   "metadata": {},
   "source": [
    "# ANOVA\n",
    "! source activate qiime2-2019.4 && qiime longitudinal anova \\\n",
    "  --m-metadata-file <path-to-metadata-file.tsv> \\\n",
    "  --p-formula \"independent_variable~dependent_variable+dependent_variable\" \\\n",
    "  --o-visualization <path-to-visualization.qza>"
   ]
  },
  {
   "cell_type": "code",
   "execution_count": 106,
   "metadata": {},
   "outputs": [
    {
     "name": "stdout",
     "output_type": "stream",
     "text": [
      "\u001b[32mSaved Visualization to: metadata.qzv\u001b[0m\n"
     ]
    }
   ],
   "source": [
    "!source activate qiime2-2019.4 && qiime longitudinal anova \\\n",
    "  --m-metadata-file ../data/metadata.tsv \\\n",
    "  --p-formula \"ATTRIBUTE_Year~ATTRIBUTE_Sample_Area+ATTRIBUTE_Latitude\" \\\n",
    "  --p-sstype 'I' \\\n",
    "  --o-visualization metadata.qzv"
   ]
  },
  {
   "cell_type": "markdown",
   "metadata": {
    "tags": []
   },
   "source": [
    "# Visualization\n",
    "Qiime2 visualizations do not work in headless environments, we can view them at https://view.qiime2.org/"
   ]
  },
  {
   "cell_type": "code",
   "execution_count": 62,
   "metadata": {
    "tags": []
   },
   "outputs": [
    {
     "name": "stdout",
     "output_type": "stream",
     "text": [
      "Usage: \u001b[34m\u001b[24mqiime\u001b[0m [OPTIONS] COMMAND [ARGS]...\n",
      "\n",
      "  QIIME 2 command-line interface (q2cli)\n",
      "  --------------------------------------\n",
      "\n",
      "  To get help with QIIME 2, visit https://qiime2.org.\n",
      "\n",
      "  To enable tab completion in Bash, run the following command or add it to\n",
      "  your .bashrc/.bash_profile:\n",
      "\n",
      "      source tab-qiime\n",
      "\n",
      "  To enable tab completion in ZSH, run the following commands or add them to\n",
      "  your .zshrc:\n",
      "\n",
      "      autoload bashcompinit && bashcompinit && source tab-qiime\n",
      "\n",
      "\u001b[1mOptions\u001b[0m:\n",
      "  \u001b[34m\u001b[24m--version\u001b[0m   Show the version and exit.\n",
      "  \u001b[34m\u001b[24m--help\u001b[0m      Show this message and exit.\n",
      "\n",
      "\u001b[1mCommands\u001b[0m:\n",
      "  \u001b[34m\u001b[24minfo\u001b[0m                Display information about current deployment.\n",
      "  \u001b[34m\u001b[24mtools\u001b[0m               Tools for working with QIIME 2 files.\n",
      "  \u001b[34m\u001b[24mdev\u001b[0m                 Utilities for developers and advanced users.\n",
      "  \u001b[34m\u001b[24malignment\u001b[0m           Plugin for generating and manipulating alignments.\n",
      "  \u001b[34m\u001b[24mcomposition\u001b[0m         Plugin for compositional data analysis.\n",
      "  \u001b[34m\u001b[24mcutadapt\u001b[0m            Plugin for removing adapter sequences, primers, and\n",
      "                      other unwanted sequence from sequence data.\n",
      "  \u001b[34m\u001b[24mdada2\u001b[0m               Plugin for sequence quality control with DADA2.\n",
      "  \u001b[34m\u001b[24mdeblur\u001b[0m              Plugin for sequence quality control with Deblur.\n",
      "  \u001b[34m\u001b[24mdemux\u001b[0m               Plugin for demultiplexing & viewing sequence quality.\n",
      "  \u001b[34m\u001b[24mdiversity\u001b[0m           Plugin for exploring community diversity.\n",
      "  \u001b[34m\u001b[24memperor\u001b[0m             Plugin for ordination plotting with Emperor.\n",
      "  \u001b[34m\u001b[24mfeature-classifier\u001b[0m  Plugin for taxonomic classification.\n",
      "  \u001b[34m\u001b[24mfeature-table\u001b[0m       Plugin for working with sample by feature tables.\n",
      "  \u001b[34m\u001b[24mfragment-insertion\u001b[0m  Plugin for extending phylogenies.\n",
      "  \u001b[34m\u001b[24mgneiss\u001b[0m              Plugin for building compositional models.\n",
      "  \u001b[34m\u001b[24mlongitudinal\u001b[0m        Plugin for paired sample and time series analyses.\n",
      "  \u001b[34m\u001b[24mmetadata\u001b[0m            Plugin for working with Metadata.\n",
      "  \u001b[34m\u001b[24mphylogeny\u001b[0m           Plugin for generating and manipulating phylogenies.\n",
      "  \u001b[34m\u001b[24mquality-control\u001b[0m     Plugin for quality control of feature and sequence data.\n",
      "  \u001b[34m\u001b[24mquality-filter\u001b[0m      Plugin for PHRED-based filtering and trimming.\n",
      "  \u001b[34m\u001b[24msample-classifier\u001b[0m   Plugin for machine learning prediction of sample\n",
      "                      metadata.\n",
      "  \u001b[34m\u001b[24mtaxa\u001b[0m                Plugin for working with feature taxonomy annotations.\n",
      "  \u001b[34m\u001b[24mvsearch\u001b[0m             Plugin for clustering and dereplicating with vsearch.\n"
     ]
    }
   ],
   "source": [
    "# Qiime2 Manipulations Happen after this to mirror the other notebooks\n",
    "\n",
    "! source activate qiime2-2019.4 && qiime"
   ]
  },
  {
   "cell_type": "markdown",
   "metadata": {},
   "source": [
    "# Principal Coordinate Analysis (PCoA) & Distance Matrix\n",
    "! source activate qiime2-2019.4 && first create distance matrix \n",
    " qiime diversity beta \\\n",
    "  --i-table <path-to-feature-table.qza> \\\n",
    "  --p-metric canberra_adkins \\\n",
    "  --output-dir <path-to-distance-matrix.qza> \\"
   ]
  },
  {
   "cell_type": "code",
   "execution_count": 93,
   "metadata": {},
   "outputs": [
    {
     "name": "stdout",
     "output_type": "stream",
     "text": [
      "\u001b[32mSaved DistanceMatrix to: distance_matrix.qza\u001b[0m\n"
     ]
    }
   ],
   "source": [
    "! source activate qiime2-2019.4 && qiime diversity beta \\\n",
    "  --i-table qiime_table.qza \\\n",
    "  --p-metric canberra_adkins \\\n",
    "  --o-distance-matrix distance_matrix.qza"
   ]
  },
  {
   "cell_type": "markdown",
   "metadata": {},
   "source": [
    "## PCoA\n",
    "! source activate qiime2-2019.4 && qiime diversity pcoa \\\n",
    "  --i-distance-matrix <path-to-distance-matrix.qza> \\\n",
    "  --p-number-of-dimensions INTEGER \\ #optional\n",
    "  --o-pcoa <path-to-artifact.qza>"
   ]
  },
  {
   "cell_type": "code",
   "execution_count": 94,
   "metadata": {},
   "outputs": [
    {
     "name": "stdout",
     "output_type": "stream",
     "text": [
      "\u001b[32mSaved PCoAResults to: pcoa.qza\u001b[0m\n"
     ]
    }
   ],
   "source": [
    "! source activate qiime2-2019.4 && qiime diversity pcoa \\\n",
    "  --i-distance-matrix distance_matrix.qza \\\n",
    "  --o-pcoa pcoa.qza"
   ]
  },
  {
   "cell_type": "markdown",
   "metadata": {},
   "source": [
    "# Emperor plot\n",
    "! source activate qiime2-2019.4 && qiime emperor plot \\\n",
    "--i-pcoa <path_to_pcoa.qza> \\\n",
    "--m-metadata-file <path_to_metadata.tsv \\\n",
    "--o-visualization emperor_qiime2"
   ]
  },
  {
   "cell_type": "code",
   "execution_count": 102,
   "metadata": {},
   "outputs": [
    {
     "name": "stdout",
     "output_type": "stream",
     "text": [
      "\u001b[32mSaved Visualization to: emperor_plot.qzv\u001b[0m\n"
     ]
    }
   ],
   "source": [
    "! source activate qiime2-2019.4 && qiime emperor plot \\\n",
    "  --i-pcoa ./pcoa.qza \\\n",
    "  --m-metadata-file ./metadata.tsv \\\n",
    "  --o-visualization emperor_plot"
   ]
  },
  {
   "cell_type": "code",
   "execution_count": null,
   "metadata": {},
   "outputs": [],
   "source": []
  }
 ],
 "metadata": {
  "kernelspec": {
   "display_name": "Python 3 (ipykernel)",
   "language": "python",
   "name": "python3"
  },
  "language_info": {
   "codemirror_mode": {
    "name": "ipython",
    "version": 3
   },
   "file_extension": ".py",
   "mimetype": "text/x-python",
   "name": "python",
   "nbconvert_exporter": "python",
   "pygments_lexer": "ipython3",
   "version": "3.10.5"
  },
  "toc-autonumbering": true,
  "toc-showcode": false,
  "toc-showmarkdowntxt": true
 },
 "nbformat": 4,
 "nbformat_minor": 4
}
