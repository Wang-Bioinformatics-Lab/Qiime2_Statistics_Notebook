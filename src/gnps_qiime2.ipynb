{
 "cells": [
  {
   "cell_type": "code",
   "execution_count": 1,
   "metadata": {},
   "outputs": [],
   "source": [
    "import networkx as nx\n",
    "from gnpsdata import taskresult\n",
    "import os\n",
    "from gnpsdata import workflow_fbmn\n",
    "import pandas as pd\n",
    "from qiime2 import Visualization"
   ]
  },
  {
   "cell_type": "code",
   "execution_count": 2,
   "metadata": {},
   "outputs": [],
   "source": [
    "task = \"cf6e14abf5604f47b28b467a513d3532\""
   ]
  },
  {
   "cell_type": "code",
   "execution_count": 3,
   "metadata": {},
   "outputs": [],
   "source": [
    "# Making sure the data folder exists\n",
    "os.makedirs(\"../data\", exist_ok=True)\n",
    "\n",
    "# Downloading GNPS Qiime2 object\n",
    "workflow_fbmn.download_qiime2(task, \"../data/qiime_table.qza\")\n",
    "\n",
    "# Downloading metadata\n",
    "workflow_fbmn.download_metadata(task, \"../data/unprocessed_metadata.tsv\")"
   ]
  },
  {
   "cell_type": "markdown",
   "metadata": {},
   "source": [
    "# Changing Metadata Column Name"
   ]
  },
  {
   "cell_type": "code",
   "execution_count": 4,
   "metadata": {},
   "outputs": [],
   "source": [
    "#read metadata file\n",
    "metadata = pd.read_csv(\"../data/unprocessed_metadata.tsv\", sep = \"\\t\", index_col=False)\n",
    "#rename 1st column to \"#OTU ID\n",
    "metadata = metadata.rename(columns={\"filename\":\"#OTU ID\"})\n",
    "#convert back to .tsv\n",
    "metadata.to_csv('../data/metadata.tsv', sep=\"\\t\", index=False)"
   ]
  },
  {
   "cell_type": "markdown",
   "metadata": {},
   "source": [
    "# ANOVA"
   ]
  },
  {
   "cell_type": "code",
   "execution_count": 5,
   "metadata": {},
   "outputs": [
    {
     "name": "stdout",
     "output_type": "stream",
     "text": [
      "\u001b[32mSaved Visualization to: ../data/metadata.qzv\u001b[0m\n",
      "\u001b[0m"
     ]
    }
   ],
   "source": [
    "! qiime longitudinal anova \\\n",
    "  --m-metadata-file ../data/metadata.tsv \\\n",
    "  --p-formula \"ATTRIBUTE_Year~ATTRIBUTE_Sample_Area+ATTRIBUTE_Latitude\" \\\n",
    "  --p-sstype 'I' \\\n",
    "  --o-visualization ../data/metadata.qzv"
   ]
  },
  {
   "cell_type": "markdown",
   "metadata": {
    "tags": []
   },
   "source": [
    "# Visualization\n",
    "Qiime2 visualizations do not work in headless environments, we can view them at https://view.qiime2.org/"
   ]
  },
  {
   "cell_type": "code",
   "execution_count": 6,
   "metadata": {
    "tags": []
   },
   "outputs": [],
   "source": [
    "# Qiime2 Manipulations Happen after this to mirror the other notebooks"
   ]
  },
  {
   "cell_type": "markdown",
   "metadata": {},
   "source": [
    "# Principal Coordinate Analysis (PCoA) & Distance Matrix"
   ]
  },
  {
   "cell_type": "code",
   "execution_count": 7,
   "metadata": {},
   "outputs": [
    {
     "name": "stdout",
     "output_type": "stream",
     "text": [
      "\u001b[32mSaved DistanceMatrix to: ../data/distance_matrix.qza\u001b[0m\n",
      "\u001b[0m"
     ]
    }
   ],
   "source": [
    "! qiime diversity beta \\\n",
    "  --i-table ../data/qiime_table.qza \\\n",
    "  --p-metric canberra_adkins \\\n",
    "  --o-distance-matrix ../data/distance_matrix.qza"
   ]
  },
  {
   "cell_type": "markdown",
   "metadata": {},
   "source": [
    "## PCoA"
   ]
  },
  {
   "cell_type": "code",
   "execution_count": 8,
   "metadata": {},
   "outputs": [
    {
     "name": "stdout",
     "output_type": "stream",
     "text": [
      "\u001b[32mSaved PCoAResults to: ../data/pcoa.qza\u001b[0m\n",
      "\u001b[0m"
     ]
    }
   ],
   "source": [
    "! qiime diversity pcoa \\\n",
    "  --i-distance-matrix ../data/distance_matrix.qza \\\n",
    "  --o-pcoa ../data/pcoa.qza"
   ]
  },
  {
   "cell_type": "markdown",
   "metadata": {},
   "source": [
    "# Emperor plot"
   ]
  },
  {
   "cell_type": "code",
   "execution_count": 9,
   "metadata": {},
   "outputs": [
    {
     "name": "stdout",
     "output_type": "stream",
     "text": [
      "\u001b[32mSaved Visualization to: ../data/emperor_plot.qzv\u001b[0m\n",
      "\u001b[0m"
     ]
    }
   ],
   "source": [
    "! qiime emperor plot \\\n",
    "  --i-pcoa ../data/pcoa.qza \\\n",
    "  --m-metadata-file ../data/metadata.tsv \\\n",
    "  --o-visualization ../data/emperor_plot.qzv"
   ]
  },
  {
   "cell_type": "markdown",
   "metadata": {},
   "source": [
    "# Visualization"
   ]
  },
  {
   "cell_type": "code",
   "execution_count": 10,
   "metadata": {},
   "outputs": [
    {
     "data": {
      "text/html": [
       "<div><img onload=\"(function(div, url){\n",
       "if (typeof require !== 'undefined') {\n",
       "    var baseURL = require.toUrl('').split('/').slice(0, -2).join('/');\n",
       "} else {\n",
       "    var baseURL = JSON.parse(\n",
       "        document.getElementById('jupyter-config-data').innerHTML\n",
       "    ).baseUrl.slice(0, -1);\n",
       "}\n",
       "url = baseURL + url;\n",
       "fetch(url).then(function(res) {\n",
       "    if (res.status === 404) {\n",
       "        div.innerHTML = 'Install QIIME 2 Jupyter extension with:<br />' +\n",
       "                        '<code>jupyter serverextension enable --py qiime2' +\n",
       "                        ' --sys-prefix</code><br />then restart your server.' +\n",
       "                        '<br /><br />(Interactive output not available on ' +\n",
       "                        'static notebook viewer services like nbviewer.)';\n",
       "    } else if (res.status === 409) {\n",
       "        div.innerHTML = 'Visualization no longer in scope. Re-run this cell' +\n",
       "                        ' to see the visualization.';\n",
       "    } else if (res.ok) {\n",
       "        url = res.url;\n",
       "        div.innerHTML = '<iframe src=\\'' + url + '\\' style=\\'' +\n",
       "                        'width: 100%; height: 700px; border: 0;\\'>' +\n",
       "                        '</iframe><hr />Open in a: <a href=\\'' + url + '\\'' +\n",
       "                        ' target=\\'_blank\\'>new window</a>'\n",
       "    } else {\n",
       "        div.innerHTML = 'Something has gone wrong. Check notebook server for' +\n",
       "                        ' errors.';\n",
       "    }\n",
       "});\n",
       "})(this.parentElement, '/qiime2/redirect?location=/tmp/qiime2/root/data/dc412dab-cc9d-4633-b271-4bd6673890bb')\" src=\"data:image/gif;base64,R0lGODlhAQABAIAAAP///wAAACH5BAEAAAAALAAAAAABAAEAAAICRAEAOw==\" /></div>"
      ],
      "text/plain": [
       "<visualization: Visualization uuid: dc412dab-cc9d-4633-b271-4bd6673890bb>"
      ]
     },
     "execution_count": 10,
     "metadata": {},
     "output_type": "execute_result"
    }
   ],
   "source": [
    "Visualization.load('../data/emperor_plot.qzv')"
   ]
  },
  {
   "cell_type": "markdown",
   "metadata": {},
   "source": [
    "# Classifier Data/Heat Map"
   ]
  },
  {
   "cell_type": "code",
   "execution_count": 11,
   "metadata": {},
   "outputs": [
    {
     "name": "stdout",
     "output_type": "stream",
     "text": [
      "\u001b[31m\u001b[1mPlugin error from sample-classifier:\n",
      "\n",
      "  Missing samples in metadata: {'SD_01-2018_2_b.mzXML ', 'SD_12-2017_27_b.mzXML ', 'SD_01-2018_4_b.mzXML ', 'SD_12-2017_26_b.mzXML ', 'SD_01-2018_8_a.mzXML ', 'SD_12-2017_26_a.mzXML ', 'SD_12-2017_2_b.mzXML ', 'SD_01-2018_9_a.mzXML ', 'SD_01-2018_PPL_Bl_2.mzXML ', 'SD_01-2018_5_a.mzXML ', 'SD_10_2018_12_b.mzXML ', 'SD_10_2018_26_b.mzXML ', 'SD_12-2017_18_a.mzXML ', 'SD_12-2017_22_a.mzXML ', 'SD_01-2018_17_a.mzXML ', 'SD_10_2018_8_b.mzXML ', 'SD_10_2018_29_a.mzXML ', 'SD_12-2017_6_a.mzXML ', 'SD_12-2017_PPL_Bl_1.mzXML ', 'SD_01-2018_13_b.mzXML ', 'SD_01-2018_19_a.mzXML ', 'SD_10_2018_11_a.mzXML ', 'SD_10_2018_2_b.mzXML ', 'SD_01-2018_29_a.mzXML ', 'SD_01-2018_28_b.mzXML ', 'SD_10_2018_17_b.mzXML ', 'SD_12-2017_8_b.mzXML ', 'SD_12-2017_21_a.mzXML ', 'SD_10_2018_6_b.mzXML ', 'SD_12-2017_29_a.mzXML ', 'SD_01-2018_8_b.mzXML ', 'SD_10_2018_5_b.mzXML ', 'SD_10_2018_14_a.mzXML ', 'SD_10_2018_22_b.mzXML ', 'SD_10_2018_14_b.mzXML ', 'SD_01-2018_18_b.mzXML ', 'SD_01-2018_18_a.mzXML ', 'SD_01-2018_20_b.mzXML ', 'SD_10_2018_9_b.mzXML ', 'SD_12-2017_11_b.mzXML ', 'SD_10_2018_17_a.mzXML ', 'SD_01-2018_20_a.mzXML ', 'SD_12-2017_4_b.mzXML ', 'SD_01-2018_30_b.mzXML ', 'SD_01-2018_9_b.mzXML ', 'SD_01-2018_23_a.mzXML ', 'SD_10_2018_27_a.mzXML ', 'SD_10_2018_27_b.mzXML ', 'SD_01-2018_25_b_180117091040.mzXML ', 'SD_10_2018_30_a.mzXML ', 'SD_10_2018_5_a.mzXML ', 'SD_12-2017_17_b.mzXML ', 'SD_01-2018_24_a.mzXML ', 'SD_01-2018_12_b.mzXML ', 'SD_12-2017_19_a.mzXML ', 'SD_10_2018_19_a.mzXML ', 'SD_12-2017_1_b.mzXML ', 'SD_12-2017_6_b.mzXML ', 'SD_12-2017_22_b.mzXML ', 'SD_01-2018_21_b.mzXML ', 'SD_12-2017_20_a.mzXML ', 'SD_01-2018_3_b.mzXML ', 'SD_12-2017_25_b.mzXML ', 'SD_12-2017_10_b.mzXML ', 'SD_10_2018_13_b.mzXML ', 'SD_10_2018_3_a.mzXML ', 'SD_10_2018_21_a.mzXML ', 'SD_12-2017_2_a.mzXML ', 'SD_01-2018_2_a.mzXML ', 'SD_10_2018_18_b.mzXML ', 'SD_01-2018_4_a.mzXML ', 'SD_01-2018_16_b.mzXML ', 'SD_01-2018_19_b.mzXML ', 'SD_01-2018_13_a.mzXML ', 'SD_10_2018_15_b.mzXML ', 'SD_12-2017_7_a.mzXML ', 'SD_12-2017_10_a.mzXML ', 'SD_12-2017_17_a.mzXML ', 'SD_12-2017_18_b.mzXML ', 'SD_12-2017_7_b.mzXML ', 'SD_10_2018_23_a.mzXML ', 'SD_12-2017_27_a.mzXML ', 'SD_10_2018_16_a.mzXML ', 'SD_12-2017_16_a.mzXML ', 'SD_01-2018_23_b.mzXML ', 'SD_01-2018_26_b.mzXML ', 'SD_01-2018_28_a.mzXML ', 'SD_12-2017_13_b.mzXML ', 'SD_12-2017_9_a.mzXML ', 'SD_10_2018_15_a.mzXML ', 'SD_01-2018_5_b.mzXML ', 'SD_10_2018_21_b.mzXML ', 'SD_10_2018_25_b.mzXML ', 'SD_01-2018_11_b.mzXML ', 'SD_01-2018_27_a.mzXML ', 'SD_10_2018_10_a.mzXML ', 'SD_10_2018_24_a.mzXML ', 'SD_01-2018_16_a.mzXML ', 'SD_10_2018_1_a.mzXML ', 'SD_12-2017_24_b.mzXML ', 'SD_12-2017_19_b.mzXML ', 'SD_01-2018_7_b.mzXML ', 'SD_10_2018_8_a.mzXML ', 'SD_10_2018_29_b.mzXML ', 'SD_10_2018_9_a.mzXML ', 'SD_12-2017_15_a.mzXML ', 'SD_10_2018_PPL_Blank_2.mzXML ', 'SD_01-2018_25_a.mzXML ', 'SD_01-2018_10_a.mzXML ', 'SD_10_2018_11_b.mzXML ', 'SD_10_2018_4_a.mzXML ', 'SD_10_2018_12_a.mzXML ', 'SD_01-2018_27_b.mzXML ', 'SD_12-2017_5_a.mzXML ', 'SD_10_2018_18_a.mzXML ', 'SD_12-2017_24_a.mzXML ', 'SD_12-2017_3_a.mzXML ', 'SD_12-2017_14_b.mzXML ', 'SD_01-2018_3_a.mzXML ', 'SD_01-2018_1_b.mzXML ', 'SD_10_2018_13_a.mzXML ', 'SD_10_2018_24_b.mzXML ', 'SD_12-2017_3_b.mzXML ', 'SD_12-2017_30_b.mzXML ', 'SD_12-2017_21_b.mzXML ', 'SD_12-2017_12_a.mzXML ', 'SD_10_2018_28_b.mzXML ', 'SD_10_2018_7_a.mzXML ', 'SD_10_2018_28_a.mzXML ', 'SD_12-2017_16_b.mzXML ', 'SD_12-2017_23_b.mzXML ', 'SD_10_2018_16_b.mzXML ', 'SD_12-2017_23_a.mzXML ', 'SD_01-2018_PPL_Bl_1.mzXML ', 'SD_01-2018_7_a.mzXML ', 'SD_12-2017_20_b.mzXML ', 'SD_12-2017_14_a.mzXML ', 'SD_10_2018_7_b.mzXML ', 'SD_01-2018_14_b.mzXML ', 'SD_12-2017_29_b.mzXML ', 'SD_10_2018_19_b.mzXML ', 'SD_10_2018_30_b.mzXML ', 'SD_01-2018_24_b.mzXML ', 'SD_01-2018_30_a.mzXML ', 'SD_10_2018_20_b.mzXML ', 'SD_01-2018_15_b.mzXML ', 'SD_10_2018_10_b.mzXML ', 'SD_10_2018_25_a.mzXML ', 'SD_10_2018_23_b.mzXML ', 'SD_12-2017_28_b.mzXML ', 'SD_12-2017_30_a.mzXML ', 'SD_01-2018_17_b.mzXML ', 'SD_01-2018_6_a.mzXML ', 'SD_12-2017_25_a.mzXML ', 'SD_10_2018_3_b.mzXML ', 'SD_12-2017_11_a.mzXML ', 'SD_12-2017_12_b.mzXML ', 'SD_10_2018_2_a.mzXML ', 'SD_10_2018_20_a.mzXML ', 'SD_12-2017_13_a.mzXML ', 'SD_01-2018_14_a.mzXML ', 'SD_10_2018_26_a.mzXML ', 'SD_12-2017_PPL_Bl_2.mzXML ', 'SD_12-2017_9_b.mzXML ', 'SD_10_2018_1_b.mzXML ', 'SD_01-2018_26_a.mzXML ', 'SD_10_2018_6_a.mzXML ', 'SD_01-2018_12_a.mzXML ', 'SD_12-2017_8_a.mzXML ', 'SD_01-2018_21_a.mzXML ', 'SD_12-2017_1_a.mzXML ', 'SD_10_2018_22_a.mzXML ', 'SD_01-2018_10_b.mzXML ', 'SD_01-2018_22_b.mzXML ', 'SD_12-2017_5_b.mzXML ', 'SD_10_2018_4_b.mzXML ', 'SD_01-2018_22_a.mzXML ', 'SD_01-2018_15_a.mzXML ', 'SD_01-2018_6_b.mzXML ', 'SD_01-2018_11_a.mzXML ', 'SD_01-2018_1_a.mzXML ', 'SD_12-2017_15_b.mzXML ', 'SD_01-2018_29_b.mzXML ', 'SD_10_2018_PPL_Blank_1.mzXML ', 'SD_12-2017_4_a.mzXML '}\n",
      "\n",
      "Debug info has been saved to /tmp/qiime2-q2cli-err-z3gh0_rn.log\u001b[0m\n",
      "\u001b[0m"
     ]
    }
   ],
   "source": [
    "! qiime sample-classifier classify-samples \\\n",
    "  --i-table ../data/qiime_table.qza \\\n",
    "  --m-metadata-file ../data/metadata.tsv \\\n",
    "  --m-metadata-column ATTRIBUTE_Sample_Area \\\n",
    "  --p-optimize-feature-selection \\\n",
    "  --p-parameter-tuning \\\n",
    "  --p-estimator RandomForestClassifier \\\n",
    "  --p-n-estimators 500 \\\n",
    "  --p-random-state 123 \\\n",
    "  --o-accuracy-results ../data/accuracy_results.qzv \\\n",
    "  --o-feature-importance ../data/feature_importance.qza \\\n",
    "  --o-heatmap ../data/heatmap.qzv \\\n",
    "  --o-model-summary ../data/model_summary.qzv \\\n",
    "  --o-predictions ../data/predictions.qza \\\n",
    "  --o-probabilities ../data/probabilities.qza \\\n",
    "  --o-sample-estimator ../data/sample_estimator.qza \\\n",
    "  --o-test-targets ../data/test_targets.qza \\\n",
    "  --o-training-targets ../data/training_targets.qza \n"
   ]
  },
  {
   "cell_type": "markdown",
   "metadata": {},
   "source": [
    "# Visualization"
   ]
  },
  {
   "cell_type": "code",
   "execution_count": 12,
   "metadata": {},
   "outputs": [
    {
     "data": {
      "text/html": [
       "<div><img onload=\"(function(div, url){\n",
       "if (typeof require !== 'undefined') {\n",
       "    var baseURL = require.toUrl('').split('/').slice(0, -2).join('/');\n",
       "} else {\n",
       "    var baseURL = JSON.parse(\n",
       "        document.getElementById('jupyter-config-data').innerHTML\n",
       "    ).baseUrl.slice(0, -1);\n",
       "}\n",
       "url = baseURL + url;\n",
       "fetch(url).then(function(res) {\n",
       "    if (res.status === 404) {\n",
       "        div.innerHTML = 'Install QIIME 2 Jupyter extension with:<br />' +\n",
       "                        '<code>jupyter serverextension enable --py qiime2' +\n",
       "                        ' --sys-prefix</code><br />then restart your server.' +\n",
       "                        '<br /><br />(Interactive output not available on ' +\n",
       "                        'static notebook viewer services like nbviewer.)';\n",
       "    } else if (res.status === 409) {\n",
       "        div.innerHTML = 'Visualization no longer in scope. Re-run this cell' +\n",
       "                        ' to see the visualization.';\n",
       "    } else if (res.ok) {\n",
       "        url = res.url;\n",
       "        div.innerHTML = '<iframe src=\\'' + url + '\\' style=\\'' +\n",
       "                        'width: 100%; height: 700px; border: 0;\\'>' +\n",
       "                        '</iframe><hr />Open in a: <a href=\\'' + url + '\\'' +\n",
       "                        ' target=\\'_blank\\'>new window</a>'\n",
       "    } else {\n",
       "        div.innerHTML = 'Something has gone wrong. Check notebook server for' +\n",
       "                        ' errors.';\n",
       "    }\n",
       "});\n",
       "})(this.parentElement, '/qiime2/redirect?location=/tmp/qiime2/root/data/7bd6eddb-7141-455c-b9f6-420980cedbe4')\" src=\"data:image/gif;base64,R0lGODlhAQABAIAAAP///wAAACH5BAEAAAAALAAAAAABAAEAAAICRAEAOw==\" /></div>"
      ],
      "text/plain": [
       "<visualization: Visualization uuid: 7bd6eddb-7141-455c-b9f6-420980cedbe4>"
      ]
     },
     "execution_count": 12,
     "metadata": {},
     "output_type": "execute_result"
    }
   ],
   "source": [
    "Visualization.load('../data/heatmap.qzv')"
   ]
  },
  {
   "cell_type": "markdown",
   "metadata": {},
   "source": [
    "# PermANOVA"
   ]
  },
  {
   "cell_type": "code",
   "execution_count": 13,
   "metadata": {},
   "outputs": [
    {
     "name": "stdout",
     "output_type": "stream",
     "text": [
      "\u001b[32mSaved Visualization to: ../data/permanova.qzv\u001b[0m\n",
      "\u001b[0m"
     ]
    }
   ],
   "source": [
    "! qiime diversity beta-group-significance \\\n",
    "  --i-distance-matrix ../data/distance_matrix.qza \\\n",
    "  --m-metadata-file ../data/metadata.tsv \\\n",
    "  --m-metadata-column ATTRIBUTE_Sample_Area \\\n",
    "  --o-visualization ../data/permanova.qzv"
   ]
  },
  {
   "cell_type": "markdown",
   "metadata": {},
   "source": [
    "# Visualization"
   ]
  },
  {
   "cell_type": "code",
   "execution_count": 14,
   "metadata": {},
   "outputs": [
    {
     "data": {
      "text/html": [
       "<div><img onload=\"(function(div, url){\n",
       "if (typeof require !== 'undefined') {\n",
       "    var baseURL = require.toUrl('').split('/').slice(0, -2).join('/');\n",
       "} else {\n",
       "    var baseURL = JSON.parse(\n",
       "        document.getElementById('jupyter-config-data').innerHTML\n",
       "    ).baseUrl.slice(0, -1);\n",
       "}\n",
       "url = baseURL + url;\n",
       "fetch(url).then(function(res) {\n",
       "    if (res.status === 404) {\n",
       "        div.innerHTML = 'Install QIIME 2 Jupyter extension with:<br />' +\n",
       "                        '<code>jupyter serverextension enable --py qiime2' +\n",
       "                        ' --sys-prefix</code><br />then restart your server.' +\n",
       "                        '<br /><br />(Interactive output not available on ' +\n",
       "                        'static notebook viewer services like nbviewer.)';\n",
       "    } else if (res.status === 409) {\n",
       "        div.innerHTML = 'Visualization no longer in scope. Re-run this cell' +\n",
       "                        ' to see the visualization.';\n",
       "    } else if (res.ok) {\n",
       "        url = res.url;\n",
       "        div.innerHTML = '<iframe src=\\'' + url + '\\' style=\\'' +\n",
       "                        'width: 100%; height: 700px; border: 0;\\'>' +\n",
       "                        '</iframe><hr />Open in a: <a href=\\'' + url + '\\'' +\n",
       "                        ' target=\\'_blank\\'>new window</a>'\n",
       "    } else {\n",
       "        div.innerHTML = 'Something has gone wrong. Check notebook server for' +\n",
       "                        ' errors.';\n",
       "    }\n",
       "});\n",
       "})(this.parentElement, '/qiime2/redirect?location=/tmp/qiime2/root/data/e52c5080-9f6e-4767-a223-2f02754e659d')\" src=\"data:image/gif;base64,R0lGODlhAQABAIAAAP///wAAACH5BAEAAAAALAAAAAABAAEAAAICRAEAOw==\" /></div>"
      ],
      "text/plain": [
       "<visualization: Visualization uuid: e52c5080-9f6e-4767-a223-2f02754e659d>"
      ]
     },
     "execution_count": 14,
     "metadata": {},
     "output_type": "execute_result"
    }
   ],
   "source": [
    "Visualization.load(\"../data/permanova.qzv\")"
   ]
  }
 ],
 "metadata": {
  "kernelspec": {
   "display_name": "Python 3 (ipykernel)",
   "language": "python",
   "name": "python3"
  },
  "language_info": {
   "codemirror_mode": {
    "name": "ipython",
    "version": 3
   },
   "file_extension": ".py",
   "mimetype": "text/x-python",
   "name": "python",
   "nbconvert_exporter": "python",
   "pygments_lexer": "ipython3",
   "version": "3.8.15"
  },
  "toc-autonumbering": true,
  "toc-showcode": false,
  "toc-showmarkdowntxt": true
 },
 "nbformat": 4,
 "nbformat_minor": 4
}
