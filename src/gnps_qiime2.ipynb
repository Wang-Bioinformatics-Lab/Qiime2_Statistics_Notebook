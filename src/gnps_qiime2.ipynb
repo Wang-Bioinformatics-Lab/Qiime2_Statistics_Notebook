{
 "cells": [
  {
   "cell_type": "code",
   "execution_count": 1,
   "metadata": {},
   "outputs": [],
   "source": [
    "import networkx as nx\n",
    "from gnpsdata import taskresult\n",
    "import os\n",
    "from gnpsdata import workflow_fbmn\n",
    "import pandas as pd"
   ]
  },
  {
   "cell_type": "code",
   "execution_count": 2,
   "metadata": {},
   "outputs": [],
   "source": [
    "task = \"cf6e14abf5604f47b28b467a513d3532\""
   ]
  },
  {
   "cell_type": "code",
   "execution_count": 3,
   "metadata": {},
   "outputs": [],
   "source": [
    "# Making sure the data folder exists\n",
    "os.makedirs(\"../data\", exist_ok=True)\n",
    "\n",
    "# Downloading GNPS Qiime2 object\n",
    "workflow_fbmn.download_qiime2(task, \"../data/qiime_table.qza\")\n",
    "\n",
    "# Downloading metadata\n",
    "workflow_fbmn.download_metadata(task, \"../data/unprocessed_metadata.tsv\")"
   ]
  },
  {
   "attachments": {},
   "cell_type": "markdown",
   "metadata": {},
   "source": [
    "# Changing Metadata Column Name"
   ]
  },
  {
   "cell_type": "code",
   "execution_count": 4,
   "metadata": {},
   "outputs": [],
   "source": [
    "#read metadata file\n",
    "metadata = pd.read_csv(\"../data/unprocessed_metadata.tsv\", sep = \"\\t\", index_col=False)\n",
    "#rename 1st column to \"#OTU ID\n",
    "metadata = metadata.rename(columns={\"filename\":\"#OTU ID\"})\n",
    "#convert back to .tsv\n",
    "metadata.to_csv('../data/metadata.tsv', sep=\"\\t\", index=False)"
   ]
  },
  {
   "attachments": {},
   "cell_type": "markdown",
   "metadata": {},
   "source": [
    "# ANOVA\n",
    "! source activate qiime2-2019.4 && qiime longitudinal anova \\\n",
    "  --m-metadata-file <path-to-metadata-file.tsv> \\\n",
    "  --p-formula \"independent_variable~dependent_variable+dependent_variable\" \\\n",
    "  --o-visualization <path-to-visualization.qza>"
   ]
  },
  {
   "cell_type": "code",
   "execution_count": 5,
   "metadata": {},
   "outputs": [
    {
     "name": "stdout",
     "output_type": "stream",
     "text": [
      "/bin/bash: line 1: activate: No such file or directory\n"
     ]
    }
   ],
   "source": [
    "!source activate qiime2-2019.4 && qiime longitudinal anova \\\n",
    "  --m-metadata-file ../data/metadata.tsv \\\n",
    "  --p-formula \"ATTRIBUTE_Year~ATTRIBUTE_Sample_Area+ATTRIBUTE_Latitude\" \\\n",
    "  --p-sstype 'I' \\\n",
    "  --o-visualization ../data/metadata.qzv"
   ]
  },
  {
   "attachments": {},
   "cell_type": "markdown",
   "metadata": {
    "tags": []
   },
   "source": [
    "# Visualization\n",
    "Qiime2 visualizations do not work in headless environments, we can view them at https://view.qiime2.org/"
   ]
  },
  {
   "cell_type": "code",
   "execution_count": 13,
   "metadata": {
    "tags": []
   },
   "outputs": [
    {
     "name": "stdout",
     "output_type": "stream",
     "text": [
      "no change     /home/user/miniconda3/condabin/conda\n",
      "no change     /home/user/miniconda3/bin/conda\n",
      "no change     /home/user/miniconda3/bin/conda-env\n",
      "no change     /home/user/miniconda3/bin/activate\n",
      "no change     /home/user/miniconda3/bin/deactivate\n",
      "no change     /home/user/miniconda3/etc/profile.d/conda.sh\n",
      "no change     /home/user/miniconda3/etc/fish/conf.d/conda.fish\n",
      "no change     /home/user/miniconda3/shell/condabin/Conda.psm1\n",
      "no change     /home/user/miniconda3/shell/condabin/conda-hook.ps1\n",
      "no change     /home/user/miniconda3/lib/python3.9/site-packages/xontrib/conda.xsh\n",
      "no change     /home/user/miniconda3/etc/profile.d/conda.csh\n",
      "no change     /home/user/.bashrc\n",
      "No action taken.\n",
      "\n",
      "CommandNotFoundError: Your shell has not been properly configured to use 'conda activate'.\n",
      "To initialize your shell, run\n",
      "\n",
      "    $ conda init <SHELL_NAME>\n",
      "\n",
      "Currently supported shells are:\n",
      "  - bash\n",
      "  - fish\n",
      "  - tcsh\n",
      "  - xonsh\n",
      "  - zsh\n",
      "  - powershell\n",
      "\n",
      "See 'conda init --help' for more information and options.\n",
      "\n",
      "IMPORTANT: You may need to close and restart your shell after running 'conda init'.\n",
      "\n",
      "\n"
     ]
    }
   ],
   "source": [
    "# Qiime2 Manipulations Happen after this to mirror the other notebooks\n",
    "\n",
    "! conda activate qiime2-2019.4 && qiime"
   ]
  },
  {
   "attachments": {},
   "cell_type": "markdown",
   "metadata": {},
   "source": [
    "# Principal Coordinate Analysis (PCoA) & Distance Matrix\n",
    "! source activate qiime2-2019.4 && first create distance matrix \n",
    " qiime diversity beta \\\n",
    "  --i-table <path-to-feature-table.qza> \\\n",
    "  --p-metric canberra_adkins \\\n",
    "  --output-dir <path-to-distance-matrix.qza> \\"
   ]
  },
  {
   "cell_type": "code",
   "execution_count": 7,
   "metadata": {},
   "outputs": [
    {
     "name": "stdout",
     "output_type": "stream",
     "text": [
      "/bin/bash: line 1: activate: No such file or directory\n"
     ]
    }
   ],
   "source": [
    "! source activate qiime2-2019.4 && qiime diversity beta \\\n",
    "  --i-table ../data/qiime_table.qza \\\n",
    "  --p-metric canberra_adkins \\\n",
    "  --o-distance-matrix ../data/distance_matrix.qza"
   ]
  },
  {
   "attachments": {},
   "cell_type": "markdown",
   "metadata": {},
   "source": [
    "## PCoA\n",
    "! source activate qiime2-2019.4 && qiime diversity pcoa \\\n",
    "  --i-distance-matrix <path-to-distance-matrix.qza> \\\n",
    "  --p-number-of-dimensions INTEGER \\ #optional\n",
    "  --o-pcoa <path-to-artifact.qza>"
   ]
  },
  {
   "cell_type": "code",
   "execution_count": 20,
   "metadata": {},
   "outputs": [
    {
     "name": "stdout",
     "output_type": "stream",
     "text": [
      "/opt/conda/envs/qiime2-2019.4/lib/python3.6/site-packages/skbio/util/_testing.py:15: FutureWarning: pandas.util.testing is deprecated. Use the functions in the public API at pandas.testing instead.\n",
      "  import pandas.util.testing as pdt\n",
      "\u001b[32mSaved PCoAResults to: ../data/pcoa.qza\u001b[0m\n"
     ]
    }
   ],
   "source": [
    "! source activate qiime2-2019.4 && qiime diversity pcoa \\\n",
    "  --i-distance-matrix ../data/distance_matrix.qza \\\n",
    "  --o-pcoa ../data/pcoa.qza"
   ]
  },
  {
   "attachments": {},
   "cell_type": "markdown",
   "metadata": {},
   "source": [
    "# Emperor plot\n",
    "! source activate qiime2-2019.4 && qiime emperor plot \\\n",
    "--i-pcoa <path_to_pcoa.qza> \\\n",
    "--m-metadata-file <path_to_metadata.tsv \\\n",
    "--o-visualization emperor_qiime2"
   ]
  },
  {
   "cell_type": "code",
   "execution_count": 21,
   "metadata": {},
   "outputs": [
    {
     "name": "stdout",
     "output_type": "stream",
     "text": [
      "/opt/conda/envs/qiime2-2019.4/lib/python3.6/site-packages/skbio/util/_testing.py:15: FutureWarning: pandas.util.testing is deprecated. Use the functions in the public API at pandas.testing instead.\n",
      "  import pandas.util.testing as pdt\n",
      "\u001b[32mSaved Visualization to: ../data/emperor_plot.qzv\u001b[0m\n"
     ]
    }
   ],
   "source": [
    "! source activate qiime2-2019.4 && qiime emperor plot \\\n",
    "  --i-pcoa ../data/pcoa.qza \\\n",
    "  --m-metadata-file ../data/metadata.tsv \\\n",
    "  --o-visualization ../data/emperor_plot.qzv"
   ]
  },
  {
   "cell_type": "code",
   "execution_count": null,
   "metadata": {},
   "outputs": [],
   "source": [
    "# Visualization\n",
    "\n",
    "from qiime2 import Visualization\n",
    "Visualization.load('../data/emperor_plot.qzv')"
   ]
  }
 ],
 "metadata": {
  "kernelspec": {
   "display_name": "Python 3 (ipykernel)",
   "language": "python",
   "name": "python3"
  },
  "language_info": {
   "codemirror_mode": {
    "name": "ipython",
    "version": 3
   },
   "file_extension": ".py",
   "mimetype": "text/x-python",
   "name": "python",
   "nbconvert_exporter": "python",
   "pygments_lexer": "ipython3",
   "version": "3.9.16"
  },
  "toc-autonumbering": true,
  "toc-showcode": false,
  "toc-showmarkdowntxt": true
 },
 "nbformat": 4,
 "nbformat_minor": 4
}
