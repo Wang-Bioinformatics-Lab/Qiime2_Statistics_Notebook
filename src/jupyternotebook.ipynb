{
 "cells": [
  {
   "cell_type": "code",
   "execution_count": 59,
   "metadata": {},
   "outputs": [],
   "source": [
    "from gnpsdata import workflow_fbmn"
   ]
  },
  {
   "cell_type": "code",
   "execution_count": 60,
   "metadata": {},
   "outputs": [],
   "source": [
    "task = \"cf6e14abf5604f47b28b467a513d3532\""
   ]
  },
  {
   "cell_type": "code",
   "execution_count": 61,
   "metadata": {},
   "outputs": [],
   "source": [
    "# Downloading GNPS Qiime2 object\n",
    "workflow_fbmn.download_qiime2(task, \"qiime_table.qza\")\n",
    "\n",
    "# Downloading metadata\n",
    "workflow_fbmn.download_metadata(task, \"metadata.tsv\")"
   ]
  },
  {
   "cell_type": "code",
   "execution_count": 62,
   "metadata": {
    "tags": []
   },
   "outputs": [
    {
     "name": "stdout",
     "output_type": "stream",
     "text": [
      "Usage: \u001b[34m\u001b[24mqiime\u001b[0m [OPTIONS] COMMAND [ARGS]...\n",
      "\n",
      "  QIIME 2 command-line interface (q2cli)\n",
      "  --------------------------------------\n",
      "\n",
      "  To get help with QIIME 2, visit https://qiime2.org.\n",
      "\n",
      "  To enable tab completion in Bash, run the following command or add it to\n",
      "  your .bashrc/.bash_profile:\n",
      "\n",
      "      source tab-qiime\n",
      "\n",
      "  To enable tab completion in ZSH, run the following commands or add them to\n",
      "  your .zshrc:\n",
      "\n",
      "      autoload bashcompinit && bashcompinit && source tab-qiime\n",
      "\n",
      "\u001b[1mOptions\u001b[0m:\n",
      "  \u001b[34m\u001b[24m--version\u001b[0m   Show the version and exit.\n",
      "  \u001b[34m\u001b[24m--help\u001b[0m      Show this message and exit.\n",
      "\n",
      "\u001b[1mCommands\u001b[0m:\n",
      "  \u001b[34m\u001b[24minfo\u001b[0m                Display information about current deployment.\n",
      "  \u001b[34m\u001b[24mtools\u001b[0m               Tools for working with QIIME 2 files.\n",
      "  \u001b[34m\u001b[24mdev\u001b[0m                 Utilities for developers and advanced users.\n",
      "  \u001b[34m\u001b[24malignment\u001b[0m           Plugin for generating and manipulating alignments.\n",
      "  \u001b[34m\u001b[24mcomposition\u001b[0m         Plugin for compositional data analysis.\n",
      "  \u001b[34m\u001b[24mcutadapt\u001b[0m            Plugin for removing adapter sequences, primers, and\n",
      "                      other unwanted sequence from sequence data.\n",
      "  \u001b[34m\u001b[24mdada2\u001b[0m               Plugin for sequence quality control with DADA2.\n",
      "  \u001b[34m\u001b[24mdeblur\u001b[0m              Plugin for sequence quality control with Deblur.\n",
      "  \u001b[34m\u001b[24mdemux\u001b[0m               Plugin for demultiplexing & viewing sequence quality.\n",
      "  \u001b[34m\u001b[24mdiversity\u001b[0m           Plugin for exploring community diversity.\n",
      "  \u001b[34m\u001b[24memperor\u001b[0m             Plugin for ordination plotting with Emperor.\n",
      "  \u001b[34m\u001b[24mfeature-classifier\u001b[0m  Plugin for taxonomic classification.\n",
      "  \u001b[34m\u001b[24mfeature-table\u001b[0m       Plugin for working with sample by feature tables.\n",
      "  \u001b[34m\u001b[24mfragment-insertion\u001b[0m  Plugin for extending phylogenies.\n",
      "  \u001b[34m\u001b[24mgneiss\u001b[0m              Plugin for building compositional models.\n",
      "  \u001b[34m\u001b[24mlongitudinal\u001b[0m        Plugin for paired sample and time series analyses.\n",
      "  \u001b[34m\u001b[24mmetadata\u001b[0m            Plugin for working with Metadata.\n",
      "  \u001b[34m\u001b[24mphylogeny\u001b[0m           Plugin for generating and manipulating phylogenies.\n",
      "  \u001b[34m\u001b[24mquality-control\u001b[0m     Plugin for quality control of feature and sequence data.\n",
      "  \u001b[34m\u001b[24mquality-filter\u001b[0m      Plugin for PHRED-based filtering and trimming.\n",
      "  \u001b[34m\u001b[24msample-classifier\u001b[0m   Plugin for machine learning prediction of sample\n",
      "                      metadata.\n",
      "  \u001b[34m\u001b[24mtaxa\u001b[0m                Plugin for working with feature taxonomy annotations.\n",
      "  \u001b[34m\u001b[24mvsearch\u001b[0m             Plugin for clustering and dereplicating with vsearch.\n"
     ]
    }
   ],
   "source": [
    "# Qiime2 Manipulations Happen after this to mirror the other notebooks\n",
    "\n",
    "! source activate qiime2-2019.4 && qiime"
   ]
  },
  {
   "cell_type": "code",
   "execution_count": 74,
   "metadata": {},
   "outputs": [
    {
     "name": "stdout",
     "output_type": "stream",
     "text": [
      "\u001b[32mSaved Visualization to: metadata.qzv\u001b[0m\n"
     ]
    }
   ],
   "source": [
    "#ANOVA\n",
    "#changed metadata.qzv first column to \"sampleid\"\n",
    "# source activate qiime2-2019.4 && qiime longitudinal anova \\\n",
    "#   --m-metadata-file <path-to-metadata-file.tsv> \\\n",
    "#   --p-formula \"independent_variable~dependent_variable+dependent_variable\" \\\n",
    "#   --o-visualization <path-to-visualization.qza>\n",
    "! source activate qiime2-2019.4 && qiime longitudinal anova \\\n",
    "  --m-metadata-file ./metadata.tsv \\\n",
    "  --p-formula \"ATTRIBUTE_Year~ATTRIBUTE_Sample_Area+ATTRIBUTE_Latitude\" \\\n",
    "  --o-visualization metadata.qzv"
   ]
  },
  {
   "cell_type": "code",
   "execution_count": 69,
   "metadata": {
    "tags": []
   },
   "outputs": [
    {
     "name": "stdout",
     "output_type": "stream",
     "text": [
      "Usage: \u001b[34m\u001b[24mqiime tools view\u001b[0m [OPTIONS] VISUALIZATION\n",
      "\n",
      "  Displays a QIIME 2 Visualization until the command exits. To open a QIIME\n",
      "  2 Visualization so it can be used after the command exits, use 'qiime\n",
      "  extract'.\n",
      "\n",
      "\u001b[1mOptions\u001b[0m:\n",
      "  \u001b[34m\u001b[24m--index-extension\u001b[0m TEXT  The extension of the index file that should be\n",
      "                          opened.                              \u001b[35m[default: html]\u001b[0m\n",
      "  \u001b[34m\u001b[24m--help\u001b[0m                  Show this message and exit.\n",
      "\n",
      "\u001b[33m                    There was a problem with the command:                     \u001b[0m\n",
      "\u001b[31m\u001b[1m (1/1) Missing argument \"VISUALIZATION\".\u001b[0m\n"
     ]
    }
   ],
   "source": [
    "#Visualize\n",
    "# does not work in headless environments, can view in https://view.qiime2.org/\n",
    "#! source activate qiime2-2019.4 && qiime tools view <path-to-visualization.qza>"
   ]
  },
  {
   "cell_type": "code",
   "execution_count": null,
   "metadata": {},
   "outputs": [],
   "source": [
    "#Principal Coordinate Analysis (PCoA)\n",
    "#! source activate qiime2-2019.4 && qiime diversity pcoa --i-distance-matrix <path-to-metadata-file.qza>"
   ]
  }
 ],
 "metadata": {
  "kernelspec": {
   "display_name": "Python 3 (ipykernel)",
   "language": "python",
   "name": "python3"
  },
  "language_info": {
   "codemirror_mode": {
    "name": "ipython",
    "version": 3
   },
   "file_extension": ".py",
   "mimetype": "text/x-python",
   "name": "python",
   "nbconvert_exporter": "python",
   "pygments_lexer": "ipython3",
   "version": "3.10.5"
  },
  "toc-autonumbering": true,
  "toc-showcode": false,
  "toc-showmarkdowntxt": true
 },
 "nbformat": 4,
 "nbformat_minor": 4
}
