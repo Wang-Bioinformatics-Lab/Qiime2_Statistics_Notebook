{
 "cells": [
  {
   "cell_type": "markdown",
   "metadata": {},
   "source": [
    "# Download GNPS Data"
   ]
  },
  {
   "cell_type": "code",
   "execution_count": 1,
   "metadata": {},
   "outputs": [],
   "source": [
    "import networkx as nx\n",
    "from gnpsdata import taskresult\n",
    "import os\n",
    "from gnpsdata import workflow_fbmn\n",
    "import pandas as pd\n",
    "import csv\n",
    "from qiime2 import Visualization"
   ]
  },
  {
   "cell_type": "code",
   "execution_count": 2,
   "metadata": {
    "tags": [
     "parameters"
    ]
   },
   "outputs": [],
   "source": [
    "task = \"cf6e14abf5604f47b28b467a513d3532\""
   ]
  },
  {
   "cell_type": "code",
   "execution_count": 3,
   "metadata": {},
   "outputs": [],
   "source": [
    "# Downloading raw data from GNPS\n",
    "def download_graphml(task, output_file):\n",
    "    taskresult.download_task_resultfile(task, \"gnps_molecular_network_graphml/\", output_file)\n",
    "\n",
    "def get_graphml_network(task):\n",
    "    taskresult.download_task_resultfile(task, \"gnps_molecular_network_graphml/\", \"temp.graphml\")\n",
    "\n",
    "    G = nx.read_graphml(\"temp.graphml\")\n",
    "\n",
    "    return G\n",
    "\n",
    "def download_quantification(task, output_file):\n",
    "    taskresult.download_task_resultfile(task, \"quantification_table/\", output_file)\n",
    "\n",
    "def download_metadata(task, output_file):\n",
    "    taskresult.download_task_resultfile(task, \"metadata_merged/\", output_file)\n",
    "\n",
    "def download_mgf(task, output_file):\n",
    "    taskresult.download_task_resultfile(task, \"spectra_reformatted/\", output_file)\n",
    "    \n",
    "# Qiime2 Data\n",
    "def download_qiime2(task, output_file):\n",
    "    taskresult.download_task_resultfile(task, \"qiime2_output/qiime2_table.qza\", output_file)\n",
    "\n",
    "def download_qiime2_manifest(task, output_file):\n",
    "    taskresult.download_task_resultfile(task, \"qiime2_output/qiime2_manifest.tsv\", output_file)\n",
    "\n",
    "def download_qiime2_metadata(task, output_file):\n",
    "    taskresult.download_task_resultfile(task, \"qiime2_output/qiime2_metadata.tsv\", output_file)"
   ]
  },
  {
   "cell_type": "code",
   "execution_count": 4,
   "metadata": {},
   "outputs": [],
   "source": [
    "# Download quantification and manifest\n",
    "os.makedirs(\"../data\", exist_ok=True)\n",
    "download_quantification(task, \"../data/quant.csv\")\n",
    "download_qiime2_manifest(task, \"../data/manifest.csv\")\n",
    "# Downloading metadata\n",
    "workflow_fbmn.download_metadata(task, \"../data/unprocessed_metadata.tsv\")"
   ]
  },
  {
   "cell_type": "markdown",
   "metadata": {},
   "source": [
    "# Changing Metadata and Manifest Column name"
   ]
  },
  {
   "cell_type": "code",
   "execution_count": 5,
   "metadata": {},
   "outputs": [],
   "source": [
    "#read metadata file\n",
    "metadata = pd.read_csv(\"../data/unprocessed_metadata.tsv\", sep = \"\\t\", index_col=False)\n",
    "#rename 1st column to \"#OTU ID\n",
    "metadata = metadata.rename(columns={\"filename\":\"#OTU ID\"})\n",
    "#convert back to .tsv\n",
    "metadata.to_csv('../data/metadata.tsv', sep=\"\\t\", index=False)"
   ]
  },
  {
   "cell_type": "markdown",
   "metadata": {},
   "source": [
    "# Import Into Qiime2\n",
    "## Convert .tsv to .biom"
   ]
  },
  {
   "cell_type": "code",
   "execution_count": 6,
   "metadata": {},
   "outputs": [],
   "source": [
    "# Replace the following file names with your own\n",
    "input_file = '../data/quant.csv'\n",
    "output_file = '../data/biom_quant.tsv'\n",
    "\n",
    "# Open the input CSV file\n",
    "with open(input_file, 'r') as csv_file:\n",
    "    reader = csv.reader(csv_file)\n",
    "    header = next(reader)  # Get the header row\n",
    "    \n",
    "    # Get the indexes of the first three columns\n",
    "    indexes = [0, 1, 2]\n",
    "    \n",
    "    # Get the indexes of columns with \"Peak area\" in the header\n",
    "    peak_area_indexes = [i for i in range(len(header)) if 'Peak area' in header[i]]\n",
    "    \n",
    "    # Open the output TSV file\n",
    "    with open(output_file, 'w', newline='') as tsv_file:\n",
    "        writer = csv.writer(tsv_file, delimiter='\\t')\n",
    "        \n",
    "        # Write the header row with updated column names\n",
    "        new_header = ['#OTU ID'] + [header[i].replace('Peak area', '') for i in peak_area_indexes]\n",
    "        writer.writerow(new_header)\n",
    "        \n",
    "        # Loop through the remaining rows of the input CSV file\n",
    "        for row in reader:\n",
    "            # Extract the values from the first three columns\n",
    "            otu_id = row[0]\n",
    "            \n",
    "            # Extract the values from columns with \"Peak area\" in the header\n",
    "            peak_area_values = [row[i].replace('Peak area', '') for i in peak_area_indexes]\n",
    "            \n",
    "            # Write a row to the output TSV file\n",
    "            new_row = [otu_id] + peak_area_values\n",
    "            writer.writerow(new_row)\n"
   ]
  },
  {
   "cell_type": "code",
   "execution_count": 7,
   "metadata": {},
   "outputs": [],
   "source": [
    "! biom convert \\\n",
    "  -i ../data/biom_quant.tsv \\\n",
    "  -o ../data/quant.biom --to-hdf5"
   ]
  },
  {
   "cell_type": "code",
   "execution_count": 8,
   "metadata": {},
   "outputs": [
    {
     "name": "stdout",
     "output_type": "stream",
     "text": [
      "\u001b[32mImported ../data/quant.biom as BIOMV210Format to ../data/qiime_table.qza\u001b[0m\n",
      "\u001b[0m"
     ]
    }
   ],
   "source": [
    "! qiime tools import \\\n",
    "  --input-path ../data/quant.biom \\\n",
    "  --type 'FeatureTable[Frequency]' \\\n",
    "  --input-format BIOMV210Format \\\n",
    "  --output-path ../data/qiime_table.qza"
   ]
  },
  {
   "cell_type": "markdown",
   "metadata": {},
   "source": [
    "# ANOVA"
   ]
  },
  {
   "cell_type": "code",
   "execution_count": 9,
   "metadata": {
    "tags": [
     "parameters"
    ]
   },
   "outputs": [],
   "source": [
    "p_formula = 'ATTRIBUTE_Year~ATTRIBUTE_Sample_Area+ATTRIBUTE_Latitude'"
   ]
  },
  {
   "cell_type": "code",
   "execution_count": 10,
   "metadata": {
    "tags": []
   },
   "outputs": [
    {
     "name": "stdout",
     "output_type": "stream",
     "text": [
      "\u001b[31m\u001b[1mPlugin error from longitudinal:\n",
      "\n",
      "  Formula not valid: missing tilde.\n",
      "  Enter a valid formula in format \"y ~ model\".\n",
      "\n",
      "Debug info has been saved to /tmp/qiime2-q2cli-err-dhxzr35h.log\u001b[0m\n",
      "\u001b[0m"
     ]
    }
   ],
   "source": [
    "! qiime longitudinal anova \\\n",
    "  --m-metadata-file ../data/metadata.tsv \\\n",
    "  --p-formula p_formula \\\n",
    "  --p-sstype 'I' \\\n",
    "  --o-visualization ../data/metadata.qzv"
   ]
  },
  {
   "cell_type": "markdown",
   "metadata": {
    "tags": []
   },
   "source": [
    "# Visualization"
   ]
  },
  {
   "cell_type": "code",
   "execution_count": 11,
   "metadata": {},
   "outputs": [
    {
     "data": {
      "text/html": [
       "<div><img onload=\"(function(div, url){\n",
       "if (typeof require !== 'undefined') {\n",
       "    var baseURL = require.toUrl('').split('/').slice(0, -2).join('/');\n",
       "} else {\n",
       "    var baseURL = JSON.parse(\n",
       "        document.getElementById('jupyter-config-data').innerHTML\n",
       "    ).baseUrl.slice(0, -1);\n",
       "}\n",
       "url = baseURL + url;\n",
       "fetch(url).then(function(res) {\n",
       "    if (res.status === 404) {\n",
       "        div.innerHTML = 'Install QIIME 2 Jupyter extension with:<br />' +\n",
       "                        '<code>jupyter serverextension enable --py qiime2' +\n",
       "                        ' --sys-prefix</code><br />then restart your server.' +\n",
       "                        '<br /><br />(Interactive output not available on ' +\n",
       "                        'static notebook viewer services like nbviewer.)';\n",
       "    } else if (res.status === 409) {\n",
       "        div.innerHTML = 'Visualization no longer in scope. Re-run this cell' +\n",
       "                        ' to see the visualization.';\n",
       "    } else if (res.ok) {\n",
       "        url = res.url;\n",
       "        div.innerHTML = '<iframe src=\\'' + url + '\\' style=\\'' +\n",
       "                        'width: 100%; height: 700px; border: 0;\\'>' +\n",
       "                        '</iframe><hr />Open in a: <a href=\\'' + url + '\\'' +\n",
       "                        ' target=\\'_blank\\'>new window</a>'\n",
       "    } else {\n",
       "        div.innerHTML = 'Something has gone wrong. Check notebook server for' +\n",
       "                        ' errors.';\n",
       "    }\n",
       "});\n",
       "})(this.parentElement, '/qiime2/redirect?location=/tmp/qiime2/root/data/572a14e6-a051-4b55-9339-7020e45bdc7c')\" src=\"data:image/gif;base64,R0lGODlhAQABAIAAAP///wAAACH5BAEAAAAALAAAAAABAAEAAAICRAEAOw==\" /></div>"
      ],
      "text/plain": [
       "<visualization: Visualization uuid: 572a14e6-a051-4b55-9339-7020e45bdc7c>"
      ]
     },
     "execution_count": 11,
     "metadata": {},
     "output_type": "execute_result"
    }
   ],
   "source": [
    "Visualization.load('../data/metadata.qzv')"
   ]
  },
  {
   "cell_type": "markdown",
   "metadata": {},
   "source": [
    "# Principal Coordinate Analysis (PCoA) & Distance Matrix"
   ]
  },
  {
   "cell_type": "code",
   "execution_count": 12,
   "metadata": {},
   "outputs": [
    {
     "name": "stdout",
     "output_type": "stream",
     "text": [
      "\u001b[32mSaved DistanceMatrix to: ../data/distance_matrix.qza\u001b[0m\n",
      "\u001b[0m"
     ]
    }
   ],
   "source": [
    "! qiime diversity beta \\\n",
    "  --i-table ../data/qiime_table.qza \\\n",
    "  --p-metric canberra_adkins \\\n",
    "  --o-distance-matrix ../data/distance_matrix.qza"
   ]
  },
  {
   "cell_type": "markdown",
   "metadata": {
    "tags": []
   },
   "source": [
    "## PCoA"
   ]
  },
  {
   "cell_type": "code",
   "execution_count": 13,
   "metadata": {},
   "outputs": [
    {
     "name": "stdout",
     "output_type": "stream",
     "text": [
      "\u001b[32mSaved PCoAResults to: ../data/pcoa.qza\u001b[0m\n",
      "\u001b[0m"
     ]
    }
   ],
   "source": [
    "! qiime diversity pcoa \\\n",
    "  --i-distance-matrix ../data/distance_matrix.qza \\\n",
    "  --o-pcoa ../data/pcoa.qza"
   ]
  },
  {
   "cell_type": "markdown",
   "metadata": {
    "tags": []
   },
   "source": [
    "# Emperor plot"
   ]
  },
  {
   "cell_type": "code",
   "execution_count": 14,
   "metadata": {},
   "outputs": [
    {
     "name": "stdout",
     "output_type": "stream",
     "text": [
      "\u001b[32mSaved Visualization to: ../data/emperor_plot.qzv\u001b[0m\n",
      "\u001b[0m"
     ]
    }
   ],
   "source": [
    "! qiime emperor plot \\\n",
    "  --i-pcoa ../data/pcoa.qza \\\n",
    "  --m-metadata-file ../data/metadata.tsv \\\n",
    "  --o-visualization ../data/emperor_plot.qzv \\\n",
    "  --p-ignore-missing-samples"
   ]
  },
  {
   "cell_type": "markdown",
   "metadata": {},
   "source": [
    "# Visualization"
   ]
  },
  {
   "cell_type": "code",
   "execution_count": 15,
   "metadata": {},
   "outputs": [
    {
     "data": {
      "text/html": [
       "<div><img onload=\"(function(div, url){\n",
       "if (typeof require !== 'undefined') {\n",
       "    var baseURL = require.toUrl('').split('/').slice(0, -2).join('/');\n",
       "} else {\n",
       "    var baseURL = JSON.parse(\n",
       "        document.getElementById('jupyter-config-data').innerHTML\n",
       "    ).baseUrl.slice(0, -1);\n",
       "}\n",
       "url = baseURL + url;\n",
       "fetch(url).then(function(res) {\n",
       "    if (res.status === 404) {\n",
       "        div.innerHTML = 'Install QIIME 2 Jupyter extension with:<br />' +\n",
       "                        '<code>jupyter serverextension enable --py qiime2' +\n",
       "                        ' --sys-prefix</code><br />then restart your server.' +\n",
       "                        '<br /><br />(Interactive output not available on ' +\n",
       "                        'static notebook viewer services like nbviewer.)';\n",
       "    } else if (res.status === 409) {\n",
       "        div.innerHTML = 'Visualization no longer in scope. Re-run this cell' +\n",
       "                        ' to see the visualization.';\n",
       "    } else if (res.ok) {\n",
       "        url = res.url;\n",
       "        div.innerHTML = '<iframe src=\\'' + url + '\\' style=\\'' +\n",
       "                        'width: 100%; height: 700px; border: 0;\\'>' +\n",
       "                        '</iframe><hr />Open in a: <a href=\\'' + url + '\\'' +\n",
       "                        ' target=\\'_blank\\'>new window</a>'\n",
       "    } else {\n",
       "        div.innerHTML = 'Something has gone wrong. Check notebook server for' +\n",
       "                        ' errors.';\n",
       "    }\n",
       "});\n",
       "})(this.parentElement, '/qiime2/redirect?location=/tmp/qiime2/root/data/cf29cb38-e64c-43c1-a8d4-d65dbc0c6303')\" src=\"data:image/gif;base64,R0lGODlhAQABAIAAAP///wAAACH5BAEAAAAALAAAAAABAAEAAAICRAEAOw==\" /></div>"
      ],
      "text/plain": [
       "<visualization: Visualization uuid: cf29cb38-e64c-43c1-a8d4-d65dbc0c6303>"
      ]
     },
     "execution_count": 15,
     "metadata": {},
     "output_type": "execute_result"
    }
   ],
   "source": [
    "Visualization.load(\"../data/emperor_plot.qzv\")"
   ]
  },
  {
   "cell_type": "markdown",
   "metadata": {},
   "source": [
    "# Classifier Data/Heat Map"
   ]
  },
  {
   "cell_type": "code",
   "execution_count": 23,
   "metadata": {},
   "outputs": [],
   "source": [
    "metadata_column = 'ATTRIBUTE_Sample_Area'\n",
    "estimator = 'RandomForestClassifier'\n",
    "n_estimators = 500\n",
    "random_state = 123\n"
   ]
  },
  {
   "cell_type": "code",
   "execution_count": 24,
   "metadata": {},
   "outputs": [
    {
     "name": "stdout",
     "output_type": "stream",
     "text": [
      "\u001b[31m\u001b[1mPlugin error from sample-classifier:\n",
      "\n",
      "  Missing samples in metadata: {'SD_01-2018_29_b.mzXML ', 'SD_10_2018_19_a.mzXML ', 'SD_01-2018_28_a.mzXML ', 'SD_01-2018_5_b.mzXML ', 'SD_01-2018_12_a.mzXML ', 'SD_10_2018_18_b.mzXML ', 'SD_12-2017_3_b.mzXML ', 'SD_12-2017_1_a.mzXML ', 'SD_10_2018_14_b.mzXML ', 'SD_01-2018_13_a.mzXML ', 'SD_12-2017_24_a.mzXML ', 'SD_01-2018_17_a.mzXML ', 'SD_01-2018_11_a.mzXML ', 'SD_10_2018_12_a.mzXML ', 'SD_01-2018_14_b.mzXML ', 'SD_10_2018_18_a.mzXML ', 'SD_01-2018_10_b.mzXML ', 'SD_12-2017_2_b.mzXML ', 'SD_10_2018_29_b.mzXML ', 'SD_10_2018_16_b.mzXML ', 'SD_12-2017_25_a.mzXML ', 'SD_01-2018_16_b.mzXML ', 'SD_10_2018_29_a.mzXML ', 'SD_01-2018_24_b.mzXML ', 'SD_12-2017_26_a.mzXML ', 'SD_12-2017_14_b.mzXML ', 'SD_10_2018_3_a.mzXML ', 'SD_12-2017_16_a.mzXML ', 'SD_12-2017_1_b.mzXML ', 'SD_12-2017_4_a.mzXML ', 'SD_01-2018_30_b.mzXML ', 'SD_10_2018_23_a.mzXML ', 'SD_12-2017_21_a.mzXML ', 'SD_10_2018_23_b.mzXML ', 'SD_12-2017_13_b.mzXML ', 'SD_12-2017_7_a.mzXML ', 'SD_01-2018_PPL_Bl_1.mzXML ', 'SD_12-2017_10_a.mzXML ', 'SD_12-2017_27_a.mzXML ', 'SD_01-2018_27_a.mzXML ', 'SD_12-2017_30_b.mzXML ', 'SD_01-2018_4_b.mzXML ', 'SD_10_2018_7_a.mzXML ', 'SD_12-2017_3_a.mzXML ', 'SD_01-2018_2_b.mzXML ', 'SD_12-2017_18_b.mzXML ', 'SD_12-2017_20_b.mzXML ', 'SD_10_2018_10_b.mzXML ', 'SD_10_2018_19_b.mzXML ', 'SD_01-2018_25_a.mzXML ', 'SD_10_2018_9_a.mzXML ', 'SD_10_2018_15_b.mzXML ', 'SD_10_2018_16_a.mzXML ', 'SD_01-2018_2_a.mzXML ', 'SD_10_2018_17_b.mzXML ', 'SD_12-2017_5_a.mzXML ', 'SD_01-2018_22_b.mzXML ', 'SD_01-2018_22_a.mzXML ', 'SD_10_2018_24_a.mzXML ', 'SD_10_2018_6_b.mzXML ', 'SD_10_2018_28_b.mzXML ', 'SD_12-2017_30_a.mzXML ', 'SD_01-2018_24_a.mzXML ', 'SD_12-2017_12_a.mzXML ', 'SD_10_2018_25_b.mzXML ', 'SD_10_2018_26_a.mzXML ', 'SD_12-2017_25_b.mzXML ', 'SD_01-2018_4_a.mzXML ', 'SD_10_2018_5_b.mzXML ', 'SD_01-2018_17_b.mzXML ', 'SD_01-2018_23_b.mzXML ', 'SD_10_2018_2_a.mzXML ', 'SD_10_2018_27_b.mzXML ', 'SD_01-2018_18_a.mzXML ', 'SD_12-2017_22_a.mzXML ', 'SD_01-2018_3_a.mzXML ', 'SD_10_2018_13_b.mzXML ', 'SD_10_2018_30_b.mzXML ', 'SD_10_2018_7_b.mzXML ', 'SD_12-2017_15_a.mzXML ', 'SD_01-2018_12_b.mzXML ', 'SD_12-2017_8_a.mzXML ', 'SD_12-2017_22_b.mzXML ', 'SD_01-2018_21_b.mzXML ', 'SD_12-2017_4_b.mzXML ', 'SD_10_2018_30_a.mzXML ', 'SD_12-2017_24_b.mzXML ', 'SD_01-2018_18_b.mzXML ', 'SD_10_2018_1_a.mzXML ', 'SD_10_2018_11_b.mzXML ', 'SD_12-2017_23_b.mzXML ', 'SD_10_2018_11_a.mzXML ', 'SD_10_2018_20_b.mzXML ', 'SD_01-2018_27_b.mzXML ', 'SD_01-2018_29_a.mzXML ', 'SD_12-2017_15_b.mzXML ', 'SD_01-2018_9_a.mzXML ', 'SD_01-2018_25_b_180117091040.mzXML ', 'SD_10_2018_8_a.mzXML ', 'SD_01-2018_13_b.mzXML ', 'SD_10_2018_22_b.mzXML ', 'SD_10_2018_15_a.mzXML ', 'SD_12-2017_16_b.mzXML ', 'SD_12-2017_23_a.mzXML ', 'SD_01-2018_20_a.mzXML ', 'SD_10_2018_25_a.mzXML ', 'SD_10_2018_4_a.mzXML ', 'SD_12-2017_PPL_Bl_1.mzXML ', 'SD_10_2018_9_b.mzXML ', 'SD_01-2018_5_a.mzXML ', 'SD_01-2018_26_b.mzXML ', 'SD_10_2018_PPL_Blank_2.mzXML ', 'SD_01-2018_15_a.mzXML ', 'SD_12-2017_9_a.mzXML ', 'SD_12-2017_6_b.mzXML ', 'SD_01-2018_10_a.mzXML ', 'SD_10_2018_5_a.mzXML ', 'SD_01-2018_3_b.mzXML ', 'SD_12-2017_14_a.mzXML ', 'SD_10_2018_10_a.mzXML ', 'SD_01-2018_9_b.mzXML ', 'SD_01-2018_21_a.mzXML ', 'SD_10_2018_22_a.mzXML ', 'SD_01-2018_8_b.mzXML ', 'SD_12-2017_11_a.mzXML ', 'SD_12-2017_12_b.mzXML ', 'SD_01-2018_6_b.mzXML ', 'SD_10_2018_3_b.mzXML ', 'SD_01-2018_19_b.mzXML ', 'SD_01-2018_PPL_Bl_2.mzXML ', 'SD_10_2018_20_a.mzXML ', 'SD_10_2018_27_a.mzXML ', 'SD_12-2017_26_b.mzXML ', 'SD_01-2018_28_b.mzXML ', 'SD_01-2018_30_a.mzXML ', 'SD_01-2018_8_a.mzXML ', 'SD_10_2018_8_b.mzXML ', 'SD_10_2018_26_b.mzXML ', 'SD_01-2018_23_a.mzXML ', 'SD_10_2018_21_a.mzXML ', 'SD_01-2018_7_b.mzXML ', 'SD_12-2017_6_a.mzXML ', 'SD_12-2017_21_b.mzXML ', 'SD_01-2018_26_a.mzXML ', 'SD_12-2017_28_b.mzXML ', 'SD_12-2017_29_a.mzXML ', 'SD_12-2017_PPL_Bl_2.mzXML ', 'SD_10_2018_2_b.mzXML ', 'SD_10_2018_17_a.mzXML ', 'SD_01-2018_1_b.mzXML ', 'SD_10_2018_28_a.mzXML ', 'SD_10_2018_12_b.mzXML ', 'SD_12-2017_17_a.mzXML ', 'SD_01-2018_16_a.mzXML ', 'SD_10_2018_4_b.mzXML ', 'SD_01-2018_14_a.mzXML ', 'SD_12-2017_19_a.mzXML ', 'SD_01-2018_7_a.mzXML ', 'SD_10_2018_PPL_Blank_1.mzXML ', 'SD_10_2018_24_b.mzXML ', 'SD_01-2018_20_b.mzXML ', 'SD_12-2017_10_b.mzXML ', 'SD_12-2017_17_b.mzXML ', 'SD_12-2017_19_b.mzXML ', 'SD_12-2017_29_b.mzXML ', 'SD_01-2018_15_b.mzXML ', 'SD_12-2017_20_a.mzXML ', 'SD_12-2017_5_b.mzXML ', 'SD_10_2018_6_a.mzXML ', 'SD_10_2018_13_a.mzXML ', 'SD_12-2017_27_b.mzXML ', 'SD_10_2018_1_b.mzXML ', 'SD_01-2018_1_a.mzXML ', 'SD_12-2017_18_a.mzXML ', 'SD_12-2017_9_b.mzXML ', 'SD_12-2017_7_b.mzXML ', 'SD_10_2018_14_a.mzXML ', 'SD_01-2018_19_a.mzXML ', 'SD_10_2018_21_b.mzXML ', 'SD_12-2017_13_a.mzXML ', 'SD_01-2018_6_a.mzXML ', 'SD_12-2017_11_b.mzXML ', 'SD_12-2017_2_a.mzXML ', 'SD_12-2017_8_b.mzXML ', 'SD_01-2018_11_b.mzXML '}\n",
      "\n",
      "Debug info has been saved to /tmp/qiime2-q2cli-err-9nen_f1_.log\u001b[0m\n",
      "\u001b[0m"
     ]
    }
   ],
   "source": [
    "! qiime sample-classifier classify-samples \\\n",
    "  --i-table ../data/qiime_table.qza \\\n",
    "  --m-metadata-file ../data/metadata.tsv \\\n",
    "  --m-metadata-column $metadata_column \\\n",
    "  --p-optimize-feature-selection \\\n",
    "  --p-parameter-tuning \\\n",
    "  --p-estimator $estimator \\\n",
    "  --p-n-estimators $n_estimators \\\n",
    "  --p-random-state $random_state \\\n",
    "  --o-accuracy-results ../data/accuracy_results.qzv \\\n",
    "  --o-feature-importance ../data/feature_importance.qza \\\n",
    "  --o-heatmap ../data/heatmap.qzv \\\n",
    "  --o-model-summary ../data/model_summary.qzv \\\n",
    "  --o-predictions ../data/predictions.qza \\\n",
    "  --o-probabilities ../data/probabilities.qza \\\n",
    "  --o-sample-estimator ../data/sample_estimator.qza \\\n",
    "  --o-test-targets ../data/test_targets.qza \\\n",
    "  --o-training-targets ../data/training_targets.qza \n"
   ]
  },
  {
   "cell_type": "markdown",
   "metadata": {},
   "source": [
    "# Visualization"
   ]
  },
  {
   "cell_type": "code",
   "execution_count": 18,
   "metadata": {},
   "outputs": [
    {
     "data": {
      "text/html": [
       "<div><img onload=\"(function(div, url){\n",
       "if (typeof require !== 'undefined') {\n",
       "    var baseURL = require.toUrl('').split('/').slice(0, -2).join('/');\n",
       "} else {\n",
       "    var baseURL = JSON.parse(\n",
       "        document.getElementById('jupyter-config-data').innerHTML\n",
       "    ).baseUrl.slice(0, -1);\n",
       "}\n",
       "url = baseURL + url;\n",
       "fetch(url).then(function(res) {\n",
       "    if (res.status === 404) {\n",
       "        div.innerHTML = 'Install QIIME 2 Jupyter extension with:<br />' +\n",
       "                        '<code>jupyter serverextension enable --py qiime2' +\n",
       "                        ' --sys-prefix</code><br />then restart your server.' +\n",
       "                        '<br /><br />(Interactive output not available on ' +\n",
       "                        'static notebook viewer services like nbviewer.)';\n",
       "    } else if (res.status === 409) {\n",
       "        div.innerHTML = 'Visualization no longer in scope. Re-run this cell' +\n",
       "                        ' to see the visualization.';\n",
       "    } else if (res.ok) {\n",
       "        url = res.url;\n",
       "        div.innerHTML = '<iframe src=\\'' + url + '\\' style=\\'' +\n",
       "                        'width: 100%; height: 700px; border: 0;\\'>' +\n",
       "                        '</iframe><hr />Open in a: <a href=\\'' + url + '\\'' +\n",
       "                        ' target=\\'_blank\\'>new window</a>'\n",
       "    } else {\n",
       "        div.innerHTML = 'Something has gone wrong. Check notebook server for' +\n",
       "                        ' errors.';\n",
       "    }\n",
       "});\n",
       "})(this.parentElement, '/qiime2/redirect?location=/tmp/qiime2/root/data/7bd6eddb-7141-455c-b9f6-420980cedbe4')\" src=\"data:image/gif;base64,R0lGODlhAQABAIAAAP///wAAACH5BAEAAAAALAAAAAABAAEAAAICRAEAOw==\" /></div>"
      ],
      "text/plain": [
       "<visualization: Visualization uuid: 7bd6eddb-7141-455c-b9f6-420980cedbe4>"
      ]
     },
     "execution_count": 18,
     "metadata": {},
     "output_type": "execute_result"
    }
   ],
   "source": [
    "Visualization.load('../data/heatmap.qzv')"
   ]
  },
  {
   "cell_type": "markdown",
   "metadata": {},
   "source": [
    "# PermANOVA"
   ]
  },
  {
   "cell_type": "code",
   "execution_count": 19,
   "metadata": {},
   "outputs": [],
   "source": [
    "metadata_column_permanova = 'ATTRIBUTE_Sample_Area'"
   ]
  },
  {
   "cell_type": "code",
   "execution_count": 25,
   "metadata": {},
   "outputs": [],
   "source": [
    "! qiime diversity beta-group-significance \\\n",
    "  --i-distance-matrix ../data/distance_matrix.qza \\\n",
    "  --m-metadata-file ../data/metadata.tsv \\\n",
    "  --m-metadata-column $metadata_column_permanova \\\n",
    "  --o-visualization ../data/permanova.qzv"
   ]
  },
  {
   "cell_type": "markdown",
   "metadata": {},
   "source": [
    "# Visualization"
   ]
  },
  {
   "cell_type": "code",
   "execution_count": 21,
   "metadata": {},
   "outputs": [
    {
     "ename": "ValueError",
     "evalue": "../data/permanova.qzv does not exist.",
     "output_type": "error",
     "traceback": [
      "\u001b[0;31m---------------------------------------------------------------------------\u001b[0m",
      "\u001b[0;31mValueError\u001b[0m                                Traceback (most recent call last)",
      "Cell \u001b[0;32mIn[21], line 1\u001b[0m\n\u001b[0;32m----> 1\u001b[0m Visualization\u001b[39m.\u001b[39;49mload(\u001b[39m'\u001b[39;49m\u001b[39m../data/permanova.qzv\u001b[39;49m\u001b[39m'\u001b[39;49m)\n",
      "File \u001b[0;32m~/anaconda3/envs/qiime2/lib/python3.8/site-packages/qiime2/sdk/result.py:74\u001b[0m, in \u001b[0;36mResult.load\u001b[0;34m(cls, filepath)\u001b[0m\n\u001b[1;32m     70\u001b[0m \u001b[39m# Check if the data is already in the cache (if the uuid is in\u001b[39;00m\n\u001b[1;32m     71\u001b[0m \u001b[39m# cache.data) and load it from the cache if it is. Avoids unzipping the\u001b[39;00m\n\u001b[1;32m     72\u001b[0m \u001b[39m# qza again if we already have it.\u001b[39;00m\n\u001b[1;32m     73\u001b[0m cache \u001b[39m=\u001b[39m get_cache()\n\u001b[0;32m---> 74\u001b[0m peek \u001b[39m=\u001b[39m \u001b[39mcls\u001b[39;49m\u001b[39m.\u001b[39;49mpeek(filepath)\n\u001b[1;32m     75\u001b[0m archiver \u001b[39m=\u001b[39m cache\u001b[39m.\u001b[39m_load_uuid(peek\u001b[39m.\u001b[39muuid)\n\u001b[1;32m     77\u001b[0m \u001b[39mif\u001b[39;00m \u001b[39mnot\u001b[39;00m archiver:\n",
      "File \u001b[0;32m~/anaconda3/envs/qiime2/lib/python3.8/site-packages/qiime2/sdk/result.py:58\u001b[0m, in \u001b[0;36mResult.peek\u001b[0;34m(cls, filepath)\u001b[0m\n\u001b[1;32m     56\u001b[0m \u001b[39m@classmethod\u001b[39m\n\u001b[1;32m     57\u001b[0m \u001b[39mdef\u001b[39;00m \u001b[39mpeek\u001b[39m(\u001b[39mcls\u001b[39m, filepath):\n\u001b[0;32m---> 58\u001b[0m     \u001b[39mreturn\u001b[39;00m ResultMetadata(\u001b[39m*\u001b[39marchive\u001b[39m.\u001b[39;49mArchiver\u001b[39m.\u001b[39;49mpeek(filepath))\n",
      "File \u001b[0;32m~/anaconda3/envs/qiime2/lib/python3.8/site-packages/qiime2/core/archive/archiver.py:335\u001b[0m, in \u001b[0;36mArchiver.peek\u001b[0;34m(cls, filepath)\u001b[0m\n\u001b[1;32m    333\u001b[0m \u001b[39m@classmethod\u001b[39m\n\u001b[1;32m    334\u001b[0m \u001b[39mdef\u001b[39;00m \u001b[39mpeek\u001b[39m(\u001b[39mcls\u001b[39m, filepath):\n\u001b[0;32m--> 335\u001b[0m     archive \u001b[39m=\u001b[39m \u001b[39mcls\u001b[39;49m\u001b[39m.\u001b[39;49mget_archive(filepath)\n\u001b[1;32m    336\u001b[0m     Format \u001b[39m=\u001b[39m \u001b[39mcls\u001b[39m\u001b[39m.\u001b[39mget_format_class(archive\u001b[39m.\u001b[39mversion)\n\u001b[1;32m    337\u001b[0m     \u001b[39mif\u001b[39;00m Format \u001b[39mis\u001b[39;00m \u001b[39mNone\u001b[39;00m:\n",
      "File \u001b[0;32m~/anaconda3/envs/qiime2/lib/python3.8/site-packages/qiime2/core/archive/archiver.py:314\u001b[0m, in \u001b[0;36mArchiver.get_archive\u001b[0;34m(cls, filepath)\u001b[0m\n\u001b[1;32m    312\u001b[0m filepath \u001b[39m=\u001b[39m pathlib\u001b[39m.\u001b[39mPath(filepath)\n\u001b[1;32m    313\u001b[0m \u001b[39mif\u001b[39;00m \u001b[39mnot\u001b[39;00m filepath\u001b[39m.\u001b[39mexists():\n\u001b[0;32m--> 314\u001b[0m     \u001b[39mraise\u001b[39;00m \u001b[39mValueError\u001b[39;00m(\u001b[39m\"\u001b[39m\u001b[39m%s\u001b[39;00m\u001b[39m does not exist.\u001b[39m\u001b[39m\"\u001b[39m \u001b[39m%\u001b[39m filepath)\n\u001b[1;32m    316\u001b[0m \u001b[39mif\u001b[39;00m _ZipArchive\u001b[39m.\u001b[39mis_archive_type(filepath):\n\u001b[1;32m    317\u001b[0m     archive \u001b[39m=\u001b[39m _ZipArchive(filepath)\n",
      "\u001b[0;31mValueError\u001b[0m: ../data/permanova.qzv does not exist."
     ]
    }
   ],
   "source": [
    "Visualization.load('../data/permanova.qzv')"
   ]
  }
 ],
 "metadata": {
  "kernelspec": {
   "display_name": "Python 3 (ipykernel)",
   "language": "python",
   "name": "python3"
  },
  "language_info": {
   "codemirror_mode": {
    "name": "ipython",
    "version": 3
   },
   "file_extension": ".py",
   "mimetype": "text/x-python",
   "name": "python",
   "nbconvert_exporter": "python",
   "pygments_lexer": "ipython3",
   "version": "3.8.15"
  },
  "toc-autonumbering": true,
  "toc-showcode": false,
  "toc-showmarkdowntxt": true
 },
 "nbformat": 4,
 "nbformat_minor": 4
}
