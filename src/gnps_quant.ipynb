{
 "cells": [
  {
   "cell_type": "code",
   "execution_count": 125,
   "metadata": {},
   "outputs": [],
   "source": [
    "import networkx as nx\n",
    "from gnpsdata import taskresult\n",
    "import os\n",
    "from gnpsdata import workflow_fbmn\n",
    "import pandas as pd\n",
    "import csv\n",
    "from qiime2 import Visualization"
   ]
  },
  {
   "cell_type": "code",
   "execution_count": 111,
   "metadata": {},
   "outputs": [],
   "source": [
    "task = \"cf6e14abf5604f47b28b467a513d3532\""
   ]
  },
  {
   "cell_type": "code",
   "execution_count": 112,
   "metadata": {},
   "outputs": [],
   "source": [
    "# Downloading raw data from GNPS\n",
    "def download_graphml(task, output_file):\n",
    "    taskresult.download_task_resultfile(task, \"gnps_molecular_network_graphml/\", output_file)\n",
    "\n",
    "def get_graphml_network(task):\n",
    "    taskresult.download_task_resultfile(task, \"gnps_molecular_network_graphml/\", \"temp.graphml\")\n",
    "\n",
    "    G = nx.read_graphml(\"temp.graphml\")\n",
    "\n",
    "    return G\n",
    "\n",
    "def download_quantification(task, output_file):\n",
    "    taskresult.download_task_resultfile(task, \"quantification_table/\", output_file)\n",
    "\n",
    "def download_metadata(task, output_file):\n",
    "    taskresult.download_task_resultfile(task, \"metadata_merged/\", output_file)\n",
    "\n",
    "def download_mgf(task, output_file):\n",
    "    taskresult.download_task_resultfile(task, \"spectra_reformatted/\", output_file)\n",
    "    \n",
    "# Qiime2 Data\n",
    "def download_qiime2(task, output_file):\n",
    "    taskresult.download_task_resultfile(task, \"qiime2_output/qiime2_table.qza\", output_file)\n",
    "\n",
    "def download_qiime2_manifest(task, output_file):\n",
    "    taskresult.download_task_resultfile(task, \"qiime2_output/qiime2_manifest.tsv\", output_file)\n",
    "\n",
    "def download_qiime2_metadata(task, output_file):\n",
    "    taskresult.download_task_resultfile(task, \"qiime2_output/qiime2_metadata.tsv\", output_file)"
   ]
  },
  {
   "cell_type": "code",
   "execution_count": 113,
   "metadata": {},
   "outputs": [],
   "source": [
    "# Download quantification and manifest\n",
    "os.makedirs(\"../data\", exist_ok=True)\n",
    "download_quantification(task, \"../data/quant.csv\")\n",
    "download_qiime2_manifest(task, \"../data/manifest.csv\")\n",
    "# Downloading metadata\n",
    "workflow_fbmn.download_metadata(task, \"../data/unprocessed_metadata.tsv\")"
   ]
  },
  {
   "cell_type": "markdown",
   "metadata": {},
   "source": [
    "# Changing Metadata and Manifest Column name"
   ]
  },
  {
   "cell_type": "code",
   "execution_count": 114,
   "metadata": {},
   "outputs": [],
   "source": [
    "#read metadata file\n",
    "metadata = pd.read_csv(\"../data/unprocessed_metadata.tsv\", sep = \"\\t\", index_col=False)\n",
    "#rename 1st column to \"#OTU ID\n",
    "metadata = metadata.rename(columns={\"filename\":\"#OTU ID\"})\n",
    "#convert back to .tsv\n",
    "metadata.to_csv('../data/metadata.tsv', sep=\"\\t\", index=False)"
   ]
  },
  {
   "cell_type": "markdown",
   "metadata": {},
   "source": [
    "# Import Into Qiime2\n",
    "## Convert .tsv to .biom\n",
    "! source activate qiime2-2019.4 && biom convert -i ../data/gnps_quant/quant.tsv -o quant.biom --to-hdf5"
   ]
  },
  {
   "cell_type": "code",
   "execution_count": 115,
   "metadata": {},
   "outputs": [],
   "source": [
    "# Replace the following file names with your own\n",
    "input_file = '../data/quant.csv'\n",
    "output_file = '../data/biom_quant.tsv'\n",
    "\n",
    "# Open the input CSV file\n",
    "with open(input_file, 'r') as csv_file:\n",
    "    reader = csv.reader(csv_file)\n",
    "    header = next(reader)  # Get the header row\n",
    "    \n",
    "    # Get the indexes of the first three columns\n",
    "    indexes = [0, 1, 2]\n",
    "    \n",
    "    # Get the indexes of columns with \"Peak area\" in the header\n",
    "    peak_area_indexes = [i for i in range(len(header)) if 'Peak area' in header[i]]\n",
    "    \n",
    "    # Open the output TSV file\n",
    "    with open(output_file, 'w', newline='') as tsv_file:\n",
    "        writer = csv.writer(tsv_file, delimiter='\\t')\n",
    "        \n",
    "        # Write the header row with updated column names\n",
    "        new_header = ['#OTU ID'] + [header[i].replace('Peak area', '') for i in peak_area_indexes]\n",
    "        writer.writerow(new_header)\n",
    "        \n",
    "        # Loop through the remaining rows of the input CSV file\n",
    "        for row in reader:\n",
    "            # Extract the values from the first three columns\n",
    "            otu_id = row[0]\n",
    "            \n",
    "            # Extract the values from columns with \"Peak area\" in the header\n",
    "            peak_area_values = [row[i].replace('Peak area', '') for i in peak_area_indexes]\n",
    "            \n",
    "            # Write a row to the output TSV file\n",
    "            new_row = [otu_id] + peak_area_values\n",
    "            writer.writerow(new_row)\n"
   ]
  },
  {
   "cell_type": "code",
   "execution_count": 116,
   "metadata": {},
   "outputs": [],
   "source": [
    "! biom convert \\\n",
    "  -i ../data/biom_quant.tsv \\\n",
    "  -o ../data/quant.biom --to-hdf5"
   ]
  },
  {
   "cell_type": "code",
   "execution_count": 117,
   "metadata": {},
   "outputs": [
    {
     "name": "stdout",
     "output_type": "stream",
     "text": [
      "\u001b[32mImported ../data/quant.biom as BIOMV210Format to ../data/qiime_table.qza\u001b[0m\n",
      "\u001b[0m"
     ]
    }
   ],
   "source": [
    "! qiime tools import \\\n",
    "  --input-path ../data/quant.biom \\\n",
    "  --type 'FeatureTable[Frequency]' \\\n",
    "  --input-format BIOMV210Format \\\n",
    "  --output-path ../data/qiime_table.qza"
   ]
  },
  {
   "cell_type": "markdown",
   "metadata": {},
   "source": [
    "# ANOVA\n",
    "! source activate qiime2-2019.4 && qiime longitudinal anova \\\n",
    "  --m-metadata-file <path-to-metadata-file.tsv> \\\n",
    "  --p-formula \"independent_variable~dependent_variable+dependent_variable\" \\\n",
    "  --o-visualization <path-to-visualization.qza>"
   ]
  },
  {
   "cell_type": "code",
   "execution_count": 118,
   "metadata": {},
   "outputs": [
    {
     "name": "stdout",
     "output_type": "stream",
     "text": [
      "\u001b[32mSaved Visualization to: ../data/metadata.qzv\u001b[0m\n",
      "\u001b[0m"
     ]
    }
   ],
   "source": [
    "! qiime longitudinal anova \\\n",
    "  --m-metadata-file ../data/metadata.tsv \\\n",
    "  --p-formula 'ATTRIBUTE_Year~ATTRIBUTE_Sample_Area+ATTRIBUTE_Latitude' \\\n",
    "  --p-sstype 'I' \\\n",
    "  --o-visualization ../data/metadata.qzv"
   ]
  },
  {
   "cell_type": "markdown",
   "metadata": {
    "tags": []
   },
   "source": [
    "# Visualization"
   ]
  },
  {
   "cell_type": "code",
   "execution_count": null,
   "metadata": {},
   "outputs": [],
   "source": [
    "Visualization.load('../data/metadata.qzv')"
   ]
  },
  {
   "cell_type": "markdown",
   "metadata": {},
   "source": [
    "# Principal Coordinate Analysis (PCoA) & Distance Matrix\n",
    "! source activate qiime2-2019.4 && first create distance matrix \n",
    " qiime diversity beta \\\n",
    "  --i-table <path-to-feature-table.qza> \\\n",
    "  --p-metric canberra_adkins \\\n",
    "  --output-dir <path-to-distance-matrix.qza> \\"
   ]
  },
  {
   "cell_type": "code",
   "execution_count": 119,
   "metadata": {},
   "outputs": [
    {
     "name": "stdout",
     "output_type": "stream",
     "text": [
      "\u001b[32mSaved DistanceMatrix to: ../data/distance_matrix.qza\u001b[0m\n",
      "\u001b[0m"
     ]
    }
   ],
   "source": [
    "! qiime diversity beta \\\n",
    "  --i-table ../data/qiime_table.qza \\\n",
    "  --p-metric canberra_adkins \\\n",
    "  --o-distance-matrix ../data/distance_matrix.qza"
   ]
  },
  {
   "cell_type": "markdown",
   "metadata": {
    "tags": []
   },
   "source": [
    "## PCoA\n",
    "! source activate qiime2-2019.4 && qiime diversity pcoa \\\n",
    "  --i-distance-matrix <path-to-distance-matrix.qza> \\\n",
    "  --p-number-of-dimensions INTEGER \\ #optional \n",
    "  --o-pcoa <path-to-artifact.qza>"
   ]
  },
  {
   "cell_type": "code",
   "execution_count": 120,
   "metadata": {},
   "outputs": [
    {
     "name": "stdout",
     "output_type": "stream",
     "text": [
      "\u001b[32mSaved PCoAResults to: ../data/pcoa.qza\u001b[0m\n",
      "\u001b[0m"
     ]
    }
   ],
   "source": [
    "! qiime diversity pcoa \\\n",
    "  --i-distance-matrix ../data/distance_matrix.qza \\\n",
    "  --o-pcoa ../data/pcoa.qza"
   ]
  },
  {
   "cell_type": "markdown",
   "metadata": {
    "tags": []
   },
   "source": [
    "# Emperor plot\n",
    "! source activate qiime2-2019.4 && qiime emperor plot \\\n",
    "--i-pcoa <path_to_pcoa.qza> \\\n",
    "--m-metadata-file <path_to_metadata.tsv> \\\n",
    "--o-visualization emperor_qiime2"
   ]
  },
  {
   "cell_type": "code",
   "execution_count": 121,
   "metadata": {},
   "outputs": [
    {
     "name": "stdout",
     "output_type": "stream",
     "text": [
      "\u001b[32mSaved Visualization to: ../data/emperor_plot.qzv\u001b[0m\n",
      "\u001b[0m"
     ]
    }
   ],
   "source": [
    "! qiime emperor plot \\\n",
    "  --i-pcoa ../data/pcoa.qza \\\n",
    "  --m-metadata-file ../data/metadata.tsv \\\n",
    "  --o-visualization ../data/emperor_plot.qzv \\\n",
    "  --p-ignore-missing-samples"
   ]
  },
  {
   "cell_type": "markdown",
   "metadata": {},
   "source": [
    "# Visualization"
   ]
  },
  {
   "cell_type": "code",
   "execution_count": 130,
   "metadata": {},
   "outputs": [
    {
     "data": {
      "text/html": [
       "<div><img onload=\"(function(div, url){\n",
       "if (typeof require !== 'undefined') {\n",
       "    var baseURL = require.toUrl('').split('/').slice(0, -2).join('/');\n",
       "} else {\n",
       "    var baseURL = JSON.parse(\n",
       "        document.getElementById('jupyter-config-data').innerHTML\n",
       "    ).baseUrl.slice(0, -1);\n",
       "}\n",
       "url = baseURL + url;\n",
       "fetch(url).then(function(res) {\n",
       "    if (res.status === 404) {\n",
       "        div.innerHTML = 'Install QIIME 2 Jupyter extension with:<br />' +\n",
       "                        '<code>jupyter serverextension enable --py qiime2' +\n",
       "                        ' --sys-prefix</code><br />then restart your server.' +\n",
       "                        '<br /><br />(Interactive output not available on ' +\n",
       "                        'static notebook viewer services like nbviewer.)';\n",
       "    } else if (res.status === 409) {\n",
       "        div.innerHTML = 'Visualization no longer in scope. Re-run this cell' +\n",
       "                        ' to see the visualization.';\n",
       "    } else if (res.ok) {\n",
       "        url = res.url;\n",
       "        div.innerHTML = '<iframe src=\\'' + url + '\\' style=\\'' +\n",
       "                        'width: 100%; height: 700px; border: 0;\\'>' +\n",
       "                        '</iframe><hr />Open in a: <a href=\\'' + url + '\\'' +\n",
       "                        ' target=\\'_blank\\'>new window</a>'\n",
       "    } else {\n",
       "        div.innerHTML = 'Something has gone wrong. Check notebook server for' +\n",
       "                        ' errors.';\n",
       "    }\n",
       "});\n",
       "})(this.parentElement, '/qiime2/redirect?location=/tmp/qiime2/nchan/data/54b26ce0-cef1-4258-9f0d-c647d8c19a78')\" src=\"data:image/gif;base64,R0lGODlhAQABAIAAAP///wAAACH5BAEAAAAALAAAAAABAAEAAAICRAEAOw==\" /></div>"
      ],
      "text/plain": [
       "<visualization: Visualization uuid: 54b26ce0-cef1-4258-9f0d-c647d8c19a78>"
      ]
     },
     "execution_count": 130,
     "metadata": {},
     "output_type": "execute_result"
    }
   ],
   "source": [
    "Visualization.load(\"../data/emperor_plot.qzv\")"
   ]
  },
  {
   "cell_type": "code",
   "execution_count": null,
   "metadata": {},
   "outputs": [],
   "source": []
  }
 ],
 "metadata": {
  "kernelspec": {
   "display_name": "Python 3 (ipykernel)",
   "language": "python",
   "name": "python3"
  },
  "language_info": {
   "codemirror_mode": {
    "name": "ipython",
    "version": 3
   },
   "file_extension": ".py",
   "mimetype": "text/x-python",
   "name": "python",
   "nbconvert_exporter": "python",
   "pygments_lexer": "ipython3",
   "version": "3.10.5"
  },
  "toc-autonumbering": true,
  "toc-showcode": false,
  "toc-showmarkdowntxt": true
 },
 "nbformat": 4,
 "nbformat_minor": 4
}
