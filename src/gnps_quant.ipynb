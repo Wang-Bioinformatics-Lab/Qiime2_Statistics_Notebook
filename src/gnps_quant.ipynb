{
 "cells": [
  {
   "cell_type": "code",
   "execution_count": null,
   "metadata": {},
   "outputs": [],
   "source": [
    "import networkx as nx\n",
    "from gnpsdata import taskresult"
   ]
  },
  {
   "cell_type": "code",
   "execution_count": 4,
   "metadata": {},
   "outputs": [],
   "source": [
    "task = \"cf6e14abf5604f47b28b467a513d3532\""
   ]
  },
  {
   "cell_type": "code",
   "execution_count": 68,
   "metadata": {},
   "outputs": [],
   "source": [
    "# Downloading raw data from GNPS\n",
    "def download_graphml(task, output_file):\n",
    "    taskresult.download_task_resultfile(task, \"gnps_molecular_network_graphml/\", output_file)\n",
    "\n",
    "def get_graphml_network(task):\n",
    "    taskresult.download_task_resultfile(task, \"gnps_molecular_network_graphml/\", \"temp.graphml\")\n",
    "\n",
    "    G = nx.read_graphml(\"temp.graphml\")\n",
    "\n",
    "    return G\n",
    "\n",
    "def download_quantification(task, output_file):\n",
    "    taskresult.download_task_resultfile(task, \"quantification_table/\", output_file)\n",
    "\n",
    "def download_metadata(task, output_file):\n",
    "    taskresult.download_task_resultfile(task, \"metadata_merged/\", output_file)\n",
    "\n",
    "def download_mgf(task, output_file):\n",
    "    taskresult.download_task_resultfile(task, \"spectra_reformatted/\", output_file)\n",
    "    \n",
    "# Qiime2 Data\n",
    "def download_qiime2(task, output_file):\n",
    "    taskresult.download_task_resultfile(task, \"qiime2_output/qiime2_table.qza\", output_file)\n",
    "\n",
    "def download_qiime2_manifest(task, output_file):\n",
    "    taskresult.download_task_resultfile(task, \"qiime2_output/qiime2_manifest.tsv\", output_file)\n",
    "\n",
    "def download_qiime2_metadata(task, output_file):\n",
    "    taskresult.download_task_resultfile(task, \"qiime2_output/qiime2_metadata.tsv\", output_file)"
   ]
  },
  {
   "cell_type": "code",
   "execution_count": 85,
   "metadata": {},
   "outputs": [],
   "source": [
    "# Download quantification and manifest\n",
    "download_quantification(task, \"../data/quant.csv\")\n",
    "download_qiime2_manifest(task, \"../data/manifest.csv\")"
   ]
  },
  {
   "cell_type": "markdown",
   "metadata": {},
   "source": [
    "# Import Into Qiime2\n",
    "## Convert .tsv to .biom\n",
    "! source activate qiime2-2019.4 && biom convert -i ../data/gnps_quant/quant.tsv -o quant.biom --to-hdf5"
   ]
  },
  {
   "cell_type": "code",
   "execution_count": 80,
   "metadata": {},
   "outputs": [],
   "source": [
    "import csv \n",
    "\n",
    "# Replace the following file names with your own \n",
    "mzmine_file = '../data/quant.csv' \n",
    "biom_file = '../data/biom_quantification.tsv' \n",
    "\n",
    "# Open the MZmine CSV file with \n",
    "with open(mzmine_file, 'r') as csv_file: \n",
    "    csv_reader = csv.reader(csv_file) \n",
    "    \n",
    "    # Open the BIOM TSV file with \n",
    "    with open(biom_file, 'w', newline='') as tsv_file: \n",
    "        tsv_writer = csv.writer(tsv_file, delimiter='\\t') \n",
    "        \n",
    "        # Skip the first line of the MZmine CSV file \n",
    "        next(csv_reader) \n",
    "        \n",
    "        # Write the header row of the BIOM TSV file \n",
    "        tsv_writer.writerow(['#OTU ID', 'sample_name', 'abundance']) \n",
    "        # Loop through the remaining lines of the MZmine CSV file\n",
    "        for row in csv_reader: \n",
    "            # Extract the relevant columns from the MZmine CSV file \n",
    "            mzmine_id = row[0] \n",
    "            sample_name = row[1] \n",
    "            abundance = row[2] \n",
    "            # Write a row to the BIOM TSV file \n",
    "            tsv_writer.writerow([mzmine_id, sample_name, abundance]) "
   ]
  },
  {
   "cell_type": "code",
   "execution_count": 81,
   "metadata": {},
   "outputs": [],
   "source": [
    "! source activate qiime2-2019.4 && biom convert -i ../data/biom_quantification.tsv -o ../data/quant.biom --to-hdf5"
   ]
  },
  {
   "cell_type": "code",
   "execution_count": 83,
   "metadata": {},
   "outputs": [
    {
     "name": "stdout",
     "output_type": "stream",
     "text": [
      "\u001b[32mImported ../data/quant.biom as BIOMV210Format to ../data/quant.qza\u001b[0m\n"
     ]
    }
   ],
   "source": [
    "! source activate qiime2-2019.4 && qiime tools import \\\n",
    "  --input-path ../data/quant.biom \\\n",
    "  --type 'FeatureTable[Frequency]' \\\n",
    "  --input-format BIOMV210Format \\\n",
    "  --output-path ../data/quant.qza"
   ]
  },
  {
   "cell_type": "markdown",
   "metadata": {},
   "source": [
    "# ANOVA\n",
    "! source activate qiime2-2019.4 && qiime longitudinal anova \\\n",
    "  --m-metadata-file <path-to-metadata-file.tsv> \\\n",
    "  --p-formula \"independent_variable~dependent_variable+dependent_variable\" \\\n",
    "  --o-visualization <path-to-visualization.qza>"
   ]
  },
  {
   "cell_type": "code",
   "execution_count": 106,
   "metadata": {},
   "outputs": [
    {
     "name": "stdout",
     "output_type": "stream",
     "text": [
      "\u001b[32mSaved Visualization to: metadata.qzv\u001b[0m\n"
     ]
    }
   ],
   "source": [
    "! source activate qiime2-2019.4 && qiime longitudinal anova \\\n",
    "  --m-metadata-file ../data/metadata.tsv \\\n",
    "  --p-formula \"ATTRIBUTE_Year~ATTRIBUTE_Sample_Area+ATTRIBUTE_Latitude\" \\\n",
    "  --p-sstype 'I' \\\n",
    "  --o-visualization metadata.qzv"
   ]
  },
  {
   "cell_type": "markdown",
   "metadata": {
    "tags": []
   },
   "source": [
    "# Visualization\n",
    "Qiime2 visualizations do not work in headless environments, we can view them at https://view.qiime2.org/"
   ]
  },
  {
   "cell_type": "code",
   "execution_count": 62,
   "metadata": {
    "tags": []
   },
   "outputs": [
    {
     "name": "stdout",
     "output_type": "stream",
     "text": [
      "Usage: \u001b[34m\u001b[24mqiime\u001b[0m [OPTIONS] COMMAND [ARGS]...\n",
      "\n",
      "  QIIME 2 command-line interface (q2cli)\n",
      "  --------------------------------------\n",
      "\n",
      "  To get help with QIIME 2, visit https://qiime2.org.\n",
      "\n",
      "  To enable tab completion in Bash, run the following command or add it to\n",
      "  your .bashrc/.bash_profile:\n",
      "\n",
      "      source tab-qiime\n",
      "\n",
      "  To enable tab completion in ZSH, run the following commands or add them to\n",
      "  your .zshrc:\n",
      "\n",
      "      autoload bashcompinit && bashcompinit && source tab-qiime\n",
      "\n",
      "\u001b[1mOptions\u001b[0m:\n",
      "  \u001b[34m\u001b[24m--version\u001b[0m   Show the version and exit.\n",
      "  \u001b[34m\u001b[24m--help\u001b[0m      Show this message and exit.\n",
      "\n",
      "\u001b[1mCommands\u001b[0m:\n",
      "  \u001b[34m\u001b[24minfo\u001b[0m                Display information about current deployment.\n",
      "  \u001b[34m\u001b[24mtools\u001b[0m               Tools for working with QIIME 2 files.\n",
      "  \u001b[34m\u001b[24mdev\u001b[0m                 Utilities for developers and advanced users.\n",
      "  \u001b[34m\u001b[24malignment\u001b[0m           Plugin for generating and manipulating alignments.\n",
      "  \u001b[34m\u001b[24mcomposition\u001b[0m         Plugin for compositional data analysis.\n",
      "  \u001b[34m\u001b[24mcutadapt\u001b[0m            Plugin for removing adapter sequences, primers, and\n",
      "                      other unwanted sequence from sequence data.\n",
      "  \u001b[34m\u001b[24mdada2\u001b[0m               Plugin for sequence quality control with DADA2.\n",
      "  \u001b[34m\u001b[24mdeblur\u001b[0m              Plugin for sequence quality control with Deblur.\n",
      "  \u001b[34m\u001b[24mdemux\u001b[0m               Plugin for demultiplexing & viewing sequence quality.\n",
      "  \u001b[34m\u001b[24mdiversity\u001b[0m           Plugin for exploring community diversity.\n",
      "  \u001b[34m\u001b[24memperor\u001b[0m             Plugin for ordination plotting with Emperor.\n",
      "  \u001b[34m\u001b[24mfeature-classifier\u001b[0m  Plugin for taxonomic classification.\n",
      "  \u001b[34m\u001b[24mfeature-table\u001b[0m       Plugin for working with sample by feature tables.\n",
      "  \u001b[34m\u001b[24mfragment-insertion\u001b[0m  Plugin for extending phylogenies.\n",
      "  \u001b[34m\u001b[24mgneiss\u001b[0m              Plugin for building compositional models.\n",
      "  \u001b[34m\u001b[24mlongitudinal\u001b[0m        Plugin for paired sample and time series analyses.\n",
      "  \u001b[34m\u001b[24mmetadata\u001b[0m            Plugin for working with Metadata.\n",
      "  \u001b[34m\u001b[24mphylogeny\u001b[0m           Plugin for generating and manipulating phylogenies.\n",
      "  \u001b[34m\u001b[24mquality-control\u001b[0m     Plugin for quality control of feature and sequence data.\n",
      "  \u001b[34m\u001b[24mquality-filter\u001b[0m      Plugin for PHRED-based filtering and trimming.\n",
      "  \u001b[34m\u001b[24msample-classifier\u001b[0m   Plugin for machine learning prediction of sample\n",
      "                      metadata.\n",
      "  \u001b[34m\u001b[24mtaxa\u001b[0m                Plugin for working with feature taxonomy annotations.\n",
      "  \u001b[34m\u001b[24mvsearch\u001b[0m             Plugin for clustering and dereplicating with vsearch.\n"
     ]
    }
   ],
   "source": [
    "# Qiime2 Manipulations Happen after this to mirror the other notebooks\n",
    "\n",
    "! source activate qiime2-2019.4 && qiime"
   ]
  },
  {
   "cell_type": "markdown",
   "metadata": {},
   "source": [
    "# Principal Coordinate Analysis (PCoA) & Distance Matrix\n",
    "! source activate qiime2-2019.4 && first create distance matrix \n",
    " qiime diversity beta \\\n",
    "  --i-table <path-to-feature-table.qza> \\\n",
    "  --p-metric canberra_adkins \\\n",
    "  --output-dir <path-to-distance-matrix.qza> \\"
   ]
  },
  {
   "cell_type": "code",
   "execution_count": null,
   "metadata": {},
   "outputs": [
    {
     "name": "stdout",
     "output_type": "stream",
     "text": [
      "Usage: \u001b[34m\u001b[24mqiime diversity beta\u001b[0m [OPTIONS]\n",
      "\n",
      "  Computes a user-specified beta diversity metric for all pairs of samples\n",
      "  in a feature table.\n",
      "\n",
      "\u001b[1mInputs\u001b[0m:\n",
      "  \u001b[34m\u001b[4m--i-table\u001b[0m ARTIFACT \u001b[32mFeatureTable[Frequency]\u001b[0m\n",
      "                       The feature table containing the samples over which\n",
      "                       beta diversity should be computed.           \u001b[35m[required]\u001b[0m\n",
      "\u001b[1mParameters\u001b[0m:\n",
      "  \u001b[34m\u001b[4m--p-metric\u001b[0m TEXT \u001b[32mChoices('yule', 'mahalanobis', 'chebyshev', 'kulsinski',\u001b[0m\n",
      "    \u001b[32m'correlation', 'euclidean', 'canberra_adkins', 'cosine', 'aitchison',\u001b[0m\n",
      "    \u001b[32m'jaccard', 'sokalmichener', 'hamming', 'seuclidean', 'sqeuclidean',\u001b[0m\n",
      "    \u001b[32m'canberra', 'matching', 'cityblock', 'rogerstanimoto', 'sokalsneath',\u001b[0m\n",
      "    \u001b[32m'braycurtis', 'wminkowski', 'dice', 'russellrao')\u001b[0m\n",
      "                       The beta diversity metric to be computed.    \u001b[35m[required]\u001b[0m\n",
      "  \u001b[34m\u001b[24m--p-pseudocount\u001b[0m INTEGER\n",
      "    \u001b[32mRange(1, None)\u001b[0m     A pseudocount to handle zeros for compositional\n",
      "                       metrics.  This is ignored for other metrics.\n",
      "                                                                  \u001b[35m[default: 1]\u001b[0m\n",
      "  \u001b[34m\u001b[24m--p-n-jobs\u001b[0m INTEGER   The number of jobs to use for the computation. This\n",
      "                       works by breaking down the pairwise matrix into \u001b[4mn-jobs\u001b[0m\n",
      "                       even slices and computing them in parallel. If -1 all\n",
      "                       CPUs are used. If 1 is given, no parallel computing\n",
      "                       code is used at all, which is useful for debugging. For\n",
      "                       \u001b[4mn-jobs\u001b[0m below -1, (n_cpus + 1 + \u001b[4mn-jobs\u001b[0m) are used. Thus\n",
      "                       for \u001b[4mn-jobs\u001b[0m = -2, all CPUs but one are used.\n",
      "                       (Description from sklearn.metrics.pairwise_distances)\n",
      "                                                                  \u001b[35m[default: 1]\u001b[0m\n",
      "\u001b[1mOutputs\u001b[0m:\n",
      "  \u001b[34m\u001b[4m--o-distance-matrix\u001b[0m ARTIFACT\n",
      "    \u001b[32mDistanceMatrix\u001b[0m     The resulting distance matrix.               \u001b[35m[required]\u001b[0m\n",
      "\u001b[1mMiscellaneous\u001b[0m:\n",
      "  \u001b[34m\u001b[24m--output-dir\u001b[0m PATH    Output unspecified results to a directory\n",
      "  \u001b[34m\u001b[24m--verbose\u001b[0m / \u001b[34m\u001b[24m--quiet\u001b[0m  Display verbose output to stdout and/or stderr during\n",
      "                       execution of this action. Or silence output if\n",
      "                       execution is successful (silence is golden).\n",
      "  \u001b[34m\u001b[24m--citations\u001b[0m          Show citations and exit.\n",
      "  \u001b[34m\u001b[24m--help\u001b[0m               Show this message and exit.\n",
      "\n",
      "\u001b[33m                    There was a problem with the command:                     \u001b[0m\n",
      "\u001b[31m\u001b[1m (1/1) Invalid value for \"--i-table\": 'quant.qza' is not a QIIME 2 Artifact\n",
      "  (.qza)\u001b[0m\n"
     ]
    }
   ],
   "source": [
    "! source activate qiime2-2019.4 && qiime diversity beta \\\n",
    "  --i-table qiime_table.qza \\\n",
    "  --p-metric canberra_adkins \\\n",
    "  --o-distance-matrix distance_matrix.qza"
   ]
  },
  {
   "cell_type": "markdown",
   "metadata": {},
   "source": [
    "## PCoA\n",
    "! source activate qiime2-2019.4 && qiime diversity pcoa \\\n",
    "  --i-distance-matrix <path-to-distance-matrix.qza> \\\n",
    "  --p-number-of-dimensions INTEGER \\ #optional\n",
    "  --o-pcoa <path-to-artifact.qza>"
   ]
  },
  {
   "cell_type": "code",
   "execution_count": 94,
   "metadata": {},
   "outputs": [
    {
     "name": "stdout",
     "output_type": "stream",
     "text": [
      "\u001b[32mSaved PCoAResults to: pcoa.qza\u001b[0m\n"
     ]
    }
   ],
   "source": [
    "! source activate qiime2-2019.4 && qiime diversity pcoa \\\n",
    "  --i-distance-matrix distance_matrix.qza \\\n",
    "  --o-pcoa pcoa.qza"
   ]
  },
  {
   "cell_type": "markdown",
   "metadata": {},
   "source": [
    "# Emperor plot\n",
    "! source activate qiime2-2019.4 && qiime emperor plot \\\n",
    "--i-pcoa <path_to_pcoa.qza> \\\n",
    "--m-metadata-file <path_to_metadata.tsv \\\n",
    "--o-visualization emperor_qiime2"
   ]
  },
  {
   "cell_type": "code",
   "execution_count": 102,
   "metadata": {},
   "outputs": [
    {
     "name": "stdout",
     "output_type": "stream",
     "text": [
      "\u001b[32mSaved Visualization to: emperor_plot.qzv\u001b[0m\n"
     ]
    }
   ],
   "source": [
    "! source activate qiime2-2019.4 && qiime emperor plot \\\n",
    "  --i-pcoa ./pcoa.qza \\\n",
    "  --m-metadata-file ./metadata.tsv \\\n",
    "  --o-visualization emperor_plot"
   ]
  },
  {
   "cell_type": "code",
   "execution_count": null,
   "metadata": {},
   "outputs": [],
   "source": []
  }
 ],
 "metadata": {
  "kernelspec": {
   "display_name": "Python 3 (ipykernel)",
   "language": "python",
   "name": "python3"
  },
  "language_info": {
   "codemirror_mode": {
    "name": "ipython",
    "version": 3
   },
   "file_extension": ".py",
   "mimetype": "text/x-python",
   "name": "python",
   "nbconvert_exporter": "python",
   "pygments_lexer": "ipython3",
   "version": "3.10.5"
  },
  "toc-autonumbering": true,
  "toc-showcode": false,
  "toc-showmarkdowntxt": true
 },
 "nbformat": 4,
 "nbformat_minor": 4
}
